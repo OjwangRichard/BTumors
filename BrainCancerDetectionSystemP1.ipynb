{
 "cells": [
  {
   "cell_type": "code",
   "execution_count": 1,
   "id": "940084a6",
   "metadata": {
    "scrolled": false
   },
   "outputs": [
    {
     "name": "stderr",
     "output_type": "stream",
     "text": [
      "2023-05-05 08:37:33.120472: I tensorflow/core/platform/cpu_feature_guard.cc:193] This TensorFlow binary is optimized with oneAPI Deep Neural Network Library (oneDNN) to use the following CPU instructions in performance-critical operations:  AVX2 AVX512F AVX512_VNNI FMA\n",
      "To enable them in other operations, rebuild TensorFlow with the appropriate compiler flags.\n",
      "2023-05-05 08:37:35.622451: I tensorflow/core/util/port.cc:104] oneDNN custom operations are on. You may see slightly different numerical results due to floating-point round-off errors from different computation orders. To turn them off, set the environment variable `TF_ENABLE_ONEDNN_OPTS=0`.\n",
      "2023-05-05 08:37:43.236181: W tensorflow/compiler/xla/stream_executor/platform/default/dso_loader.cc:64] Could not load dynamic library 'libnvinfer.so.7'; dlerror: libnvinfer.so.7: cannot open shared object file: No such file or directory\n",
      "2023-05-05 08:37:43.236351: W tensorflow/compiler/xla/stream_executor/platform/default/dso_loader.cc:64] Could not load dynamic library 'libnvinfer_plugin.so.7'; dlerror: libnvinfer_plugin.so.7: cannot open shared object file: No such file or directory\n",
      "2023-05-05 08:37:43.236365: W tensorflow/compiler/tf2tensorrt/utils/py_utils.cc:38] TF-TRT Warning: Cannot dlopen some TensorRT libraries. If you would like to use Nvidia GPU with TensorRT, please make sure the missing libraries mentioned above are installed properly.\n"
     ]
    }
   ],
   "source": [
    "import sklearn\n",
    "import matplotlib.pyplot as plt\n",
    "import seaborn as sb\n",
    "from keras.models import load_model\n",
    "import os\n",
    "import pandas as pd\n",
    "import PIL\n",
    "import numpy as np\n",
    "from PIL import Image\n",
    "from matplotlib import image\n",
    "import cv2 as cv\n",
    "import keras\n",
    "import tensorflow as tf\n"
   ]
  },
  {
   "cell_type": "markdown",
   "id": "e8245dc6",
   "metadata": {},
   "source": [
    "# determining Presence or Absence of tumors"
   ]
  },
  {
   "cell_type": "code",
   "execution_count": 2,
   "id": "aafbe060",
   "metadata": {
    "scrolled": true
   },
   "outputs": [
    {
     "name": "stdout",
     "output_type": "stream",
     "text": [
      "Found 13416 files belonging to 2 classes.\n"
     ]
    },
    {
     "name": "stderr",
     "output_type": "stream",
     "text": [
      "2023-05-05 08:37:54.113952: E tensorflow/compiler/xla/stream_executor/cuda/cuda_driver.cc:267] failed call to cuInit: CUDA_ERROR_NO_DEVICE: no CUDA-capable device is detected\n",
      "2023-05-05 08:37:54.113995: I tensorflow/compiler/xla/stream_executor/cuda/cuda_diagnostics.cc:156] kernel driver does not appear to be running on this host (kali): /proc/driver/nvidia/version does not exist\n",
      "2023-05-05 08:37:54.196003: I tensorflow/core/platform/cpu_feature_guard.cc:193] This TensorFlow binary is optimized with oneAPI Deep Neural Network Library (oneDNN) to use the following CPU instructions in performance-critical operations:  AVX2 AVX512F AVX512_VNNI FMA\n",
      "To enable them in other operations, rebuild TensorFlow with the appropriate compiler flags.\n"
     ]
    }
   ],
   "source": [
    "#Loading datafile using keras utils\n",
    "\n",
    "Directory_Path = '/home/richard/Desktop/BtainTumorDetectionSystem/BigDataset'\n",
    "Brain_State_Data=tf.keras.utils.image_dataset_from_directory(Directory_Path)"
   ]
  },
  {
   "cell_type": "code",
   "execution_count": null,
   "id": "473a708a",
   "metadata": {},
   "outputs": [],
   "source": []
  },
  {
   "cell_type": "markdown",
   "id": "06023903",
   "metadata": {
    "collapsed": true
   },
   "source": [
    "# Preprocessing"
   ]
  },
  {
   "cell_type": "code",
   "execution_count": 3,
   "id": "cf6d5777",
   "metadata": {},
   "outputs": [
    {
     "name": "stdout",
     "output_type": "stream",
     "text": [
      "Found 13503 images belonging to 2 classes.\n"
     ]
    }
   ],
   "source": [
    "#Scalling\n",
    "\n",
    "\n",
    "Data = tf.keras.preprocessing.image.ImageDataGenerator(preprocessing_function = tf.keras.applications.vgg16.preprocess_input)\\\n",
    ".flow_from_directory(directory = Directory_Path,target_size = (256,256), classes = ['Brain Tumor','Healthy'],\n",
    "                     batch_size =32 )\n",
    "\n",
    "scaler = tf.keras.layers.experimental.preprocessing.Rescaling(1./256)"
   ]
  },
  {
   "cell_type": "code",
   "execution_count": null,
   "id": "53fb4d99",
   "metadata": {},
   "outputs": [],
   "source": []
  },
  {
   "cell_type": "code",
   "execution_count": null,
   "id": "3844b8e0",
   "metadata": {},
   "outputs": [],
   "source": []
  },
  {
   "cell_type": "code",
   "execution_count": 4,
   "id": "fa48ede4",
   "metadata": {
    "scrolled": true
   },
   "outputs": [],
   "source": [
    "#Data = scaler()"
   ]
  },
  {
   "cell_type": "code",
   "execution_count": 5,
   "id": "7f4a0631",
   "metadata": {},
   "outputs": [
    {
     "data": {
      "text/plain": [
       "2"
      ]
     },
     "execution_count": 5,
     "metadata": {},
     "output_type": "execute_result"
    }
   ],
   "source": [
    "#Data pipeling techniques\n",
    "#To display the datasets\n",
    "\n",
    "data_iterator = Brain_State_Data.as_numpy_iterator()\n",
    "\n",
    "Image_batch = data_iterator.next()\n",
    "len(Image_batch)"
   ]
  },
  {
   "cell_type": "code",
   "execution_count": 6,
   "id": "1407d56e",
   "metadata": {},
   "outputs": [
    {
     "data": {
      "text/plain": [
       "32"
      ]
     },
     "execution_count": 6,
     "metadata": {},
     "output_type": "execute_result"
    }
   ],
   "source": [
    "len(Image_batch[0])"
   ]
  },
  {
   "cell_type": "code",
   "execution_count": 7,
   "id": "ad644d05",
   "metadata": {},
   "outputs": [],
   "source": [
    "#Data.size"
   ]
  },
  {
   "cell_type": "code",
   "execution_count": 8,
   "id": "c10b5019",
   "metadata": {},
   "outputs": [],
   "source": [
    "#Data.classes"
   ]
  },
  {
   "cell_type": "code",
   "execution_count": 9,
   "id": "c2ee802a",
   "metadata": {},
   "outputs": [
    {
     "data": {
      "text/plain": [
       "(32, 256, 256, 3)"
      ]
     },
     "execution_count": 9,
     "metadata": {},
     "output_type": "execute_result"
    }
   ],
   "source": [
    "Image_batch[0].shape"
   ]
  },
  {
   "cell_type": "code",
   "execution_count": 10,
   "id": "403444b7",
   "metadata": {},
   "outputs": [
    {
     "data": {
      "text/plain": [
       "(32,)"
      ]
     },
     "execution_count": 10,
     "metadata": {},
     "output_type": "execute_result"
    }
   ],
   "source": [
    "Image_batch[1].shape"
   ]
  },
  {
   "cell_type": "code",
   "execution_count": 11,
   "id": "6e417c1e",
   "metadata": {},
   "outputs": [
    {
     "data": {
      "text/plain": [
       "420"
      ]
     },
     "execution_count": 11,
     "metadata": {},
     "output_type": "execute_result"
    }
   ],
   "source": [
    "len(Brain_State_Data)"
   ]
  },
  {
   "cell_type": "code",
   "execution_count": 12,
   "id": "787a8273",
   "metadata": {
    "scrolled": true
   },
   "outputs": [],
   "source": [
    "#Image processing\n",
    "\n",
    "#Image Splitting into Train,Validation,Test\n",
    "\n",
    "Train_Data = int(len(Brain_State_Data)*.6)\n",
    "Validation_Data = int(len(Brain_State_Data)*.3)\n",
    "Test_Data = int(len(Brain_State_Data)*.1)\n"
   ]
  },
  {
   "cell_type": "code",
   "execution_count": 13,
   "id": "4372a65e",
   "metadata": {},
   "outputs": [],
   "source": [
    "Train = Brain_State_Data.take(Train_Data)\n",
    "Validation = Brain_State_Data.skip(Train_Data).take(Validation_Data)\n",
    "Test = Brain_State_Data.skip(Train_Data + Validation_Data).take(Test_Data)"
   ]
  },
  {
   "cell_type": "code",
   "execution_count": 14,
   "id": "3404c683",
   "metadata": {},
   "outputs": [
    {
     "data": {
      "text/plain": [
       "252"
      ]
     },
     "execution_count": 14,
     "metadata": {},
     "output_type": "execute_result"
    }
   ],
   "source": [
    "len(Train)"
   ]
  },
  {
   "cell_type": "code",
   "execution_count": 15,
   "id": "afd0a35a",
   "metadata": {},
   "outputs": [
    {
     "data": {
      "text/plain": [
       "126"
      ]
     },
     "execution_count": 15,
     "metadata": {},
     "output_type": "execute_result"
    }
   ],
   "source": [
    "len(Validation)"
   ]
  },
  {
   "cell_type": "code",
   "execution_count": null,
   "id": "fbcdcb30",
   "metadata": {},
   "outputs": [],
   "source": []
  },
  {
   "cell_type": "code",
   "execution_count": 16,
   "id": "9a903a13",
   "metadata": {},
   "outputs": [],
   "source": [
    "#Creating a Sequential model\n",
    "from tensorflow.keras.models import Sequential\n",
    "from tensorflow.keras.layers import Conv2D, MaxPooling2D,Dense,Flatten\n",
    "\n",
    "Model = Sequential()\n",
    "\n",
    "Model.add(Conv2D(32,(3,3),1,activation = 'relu',padding = 'same',input_shape = (256,256,3)))\n",
    "Model.add(MaxPooling2D())\n",
    "\n",
    "Model.add(Conv2D(16,(3,3),1,activation = 'relu'))\n",
    "Model.add(MaxPooling2D())\n",
    "\n",
    "Model.add(Conv2D(32,(3,3),1,activation = 'relu'))\n",
    "Model.add(MaxPooling2D())\n",
    "\n",
    "Model.add(Flatten())\n",
    "\n",
    "Model.add(Dense(256,activation = 'relu'))\n",
    "Model.add(Dense(1,activation = 'sigmoid'))\n",
    "Model.compile('adam',loss = tf.losses.BinaryCrossentropy(),metrics = ['accuracy'])"
   ]
  },
  {
   "cell_type": "code",
   "execution_count": 17,
   "id": "9ddc63f6",
   "metadata": {
    "scrolled": true
   },
   "outputs": [
    {
     "name": "stdout",
     "output_type": "stream",
     "text": [
      "Model: \"sequential\"\n",
      "_________________________________________________________________\n",
      " Layer (type)                Output Shape              Param #   \n",
      "=================================================================\n",
      " conv2d (Conv2D)             (None, 256, 256, 32)      896       \n",
      "                                                                 \n",
      " max_pooling2d (MaxPooling2D  (None, 128, 128, 32)     0         \n",
      " )                                                               \n",
      "                                                                 \n",
      " conv2d_1 (Conv2D)           (None, 126, 126, 16)      4624      \n",
      "                                                                 \n",
      " max_pooling2d_1 (MaxPooling  (None, 63, 63, 16)       0         \n",
      " 2D)                                                             \n",
      "                                                                 \n",
      " conv2d_2 (Conv2D)           (None, 61, 61, 32)        4640      \n",
      "                                                                 \n",
      " max_pooling2d_2 (MaxPooling  (None, 30, 30, 32)       0         \n",
      " 2D)                                                             \n",
      "                                                                 \n",
      " flatten (Flatten)           (None, 28800)             0         \n",
      "                                                                 \n",
      " dense (Dense)               (None, 256)               7373056   \n",
      "                                                                 \n",
      " dense_1 (Dense)             (None, 1)                 257       \n",
      "                                                                 \n",
      "=================================================================\n",
      "Total params: 7,383,473\n",
      "Trainable params: 7,383,473\n",
      "Non-trainable params: 0\n",
      "_________________________________________________________________\n"
     ]
    }
   ],
   "source": [
    "Model.summary()"
   ]
  },
  {
   "cell_type": "code",
   "execution_count": null,
   "id": "65b7c084",
   "metadata": {},
   "outputs": [],
   "source": []
  },
  {
   "cell_type": "code",
   "execution_count": null,
   "id": "8ad4bc3b",
   "metadata": {
    "scrolled": true
   },
   "outputs": [
    {
     "name": "stdout",
     "output_type": "stream",
     "text": [
      "Epoch 1/60\n",
      "252/252 [==============================] - 149s 584ms/step - loss: 2.9771 - accuracy: 0.8421 - val_loss: 0.1829 - val_accuracy: 0.9318\n",
      "Epoch 2/60\n",
      "252/252 [==============================] - 77s 305ms/step - loss: 0.1114 - accuracy: 0.9613 - val_loss: 0.1301 - val_accuracy: 0.9514\n",
      "Epoch 3/60\n",
      "252/252 [==============================] - 77s 305ms/step - loss: 0.0437 - accuracy: 0.9849 - val_loss: 0.0751 - val_accuracy: 0.9747\n",
      "Epoch 4/60\n",
      "252/252 [==============================] - 77s 305ms/step - loss: 0.0202 - accuracy: 0.9942 - val_loss: 0.0558 - val_accuracy: 0.9844\n",
      "Epoch 5/60\n",
      "252/252 [==============================] - 77s 306ms/step - loss: 0.0114 - accuracy: 0.9971 - val_loss: 0.0869 - val_accuracy: 0.9789\n",
      "Epoch 6/60\n",
      "252/252 [==============================] - 78s 307ms/step - loss: 0.0123 - accuracy: 0.9963 - val_loss: 0.0861 - val_accuracy: 0.9804\n",
      "Epoch 7/60\n",
      "252/252 [==============================] - 77s 307ms/step - loss: 0.0223 - accuracy: 0.9923 - val_loss: 0.1251 - val_accuracy: 0.9695\n",
      "Epoch 8/60\n",
      "252/252 [==============================] - 78s 309ms/step - loss: 0.0229 - accuracy: 0.9931 - val_loss: 0.0964 - val_accuracy: 0.9802\n",
      "Epoch 9/60\n",
      "252/252 [==============================] - 79s 312ms/step - loss: 0.0258 - accuracy: 0.9909 - val_loss: 0.1171 - val_accuracy: 0.9742\n",
      "Epoch 10/60\n",
      "252/252 [==============================] - 79s 312ms/step - loss: 0.0165 - accuracy: 0.9949 - val_loss: 0.0947 - val_accuracy: 0.9742\n",
      "Epoch 11/60\n",
      "252/252 [==============================] - 79s 313ms/step - loss: 0.0119 - accuracy: 0.9957 - val_loss: 0.1214 - val_accuracy: 0.9799\n",
      "Epoch 12/60\n",
      "252/252 [==============================] - 79s 312ms/step - loss: 0.0089 - accuracy: 0.9973 - val_loss: 0.1402 - val_accuracy: 0.9807\n",
      "Epoch 13/60\n",
      "252/252 [==============================] - 79s 312ms/step - loss: 0.0062 - accuracy: 0.9983 - val_loss: 0.0951 - val_accuracy: 0.9797\n",
      "Epoch 14/60\n",
      "252/252 [==============================] - 80s 316ms/step - loss: 0.0252 - accuracy: 0.9938 - val_loss: 0.1243 - val_accuracy: 0.9588\n",
      "Epoch 15/60\n",
      "252/252 [==============================] - 84s 333ms/step - loss: 0.0142 - accuracy: 0.9960 - val_loss: 0.1027 - val_accuracy: 0.9787\n",
      "Epoch 16/60\n",
      "252/252 [==============================] - 206s 821ms/step - loss: 4.7495e-04 - accuracy: 1.0000 - val_loss: 0.0903 - val_accuracy: 0.9841\n",
      "Epoch 17/60\n",
      "252/252 [==============================] - ETA: 0s - loss: 1.2144e-04 - accuracy: 1.0000"
     ]
    },
    {
     "name": "stderr",
     "output_type": "stream",
     "text": [
      "2023-05-05 09:05:36.934637: I tensorflow/core/kernels/data/shuffle_dataset_op.cc:392] Filling up shuffle buffer (this may take a while): 1 of 256\n",
      "2023-05-05 09:05:39.380752: I tensorflow/core/kernels/data/shuffle_dataset_op.cc:392] Filling up shuffle buffer (this may take a while): 82 of 256\n",
      "2023-05-05 09:05:43.448043: I tensorflow/core/kernels/data/shuffle_dataset_op.cc:417] Shuffle buffer filled.\n"
     ]
    },
    {
     "name": "stdout",
     "output_type": "stream",
     "text": [
      "252/252 [==============================] - 411s 2s/step - loss: 1.2144e-04 - accuracy: 1.0000 - val_loss: 0.0919 - val_accuracy: 0.9844\n",
      "Epoch 18/60\n",
      "252/252 [==============================] - 92s 338ms/step - loss: 6.3169e-05 - accuracy: 1.0000 - val_loss: 0.0929 - val_accuracy: 0.9849\n",
      "Epoch 19/60\n",
      "252/252 [==============================] - 80s 316ms/step - loss: 4.6491e-05 - accuracy: 1.0000 - val_loss: 0.1025 - val_accuracy: 0.9841\n",
      "Epoch 20/60\n",
      "252/252 [==============================] - 81s 321ms/step - loss: 3.5703e-05 - accuracy: 1.0000 - val_loss: 0.0996 - val_accuracy: 0.9846\n",
      "Epoch 21/60\n",
      "252/252 [==============================] - 80s 317ms/step - loss: 2.7672e-05 - accuracy: 1.0000 - val_loss: 0.1016 - val_accuracy: 0.9846\n",
      "Epoch 22/60\n",
      "252/252 [==============================] - 80s 317ms/step - loss: 2.2637e-05 - accuracy: 1.0000 - val_loss: 0.1039 - val_accuracy: 0.9844\n",
      "Epoch 23/60\n",
      "252/252 [==============================] - 80s 316ms/step - loss: 1.7611e-05 - accuracy: 1.0000 - val_loss: 0.1061 - val_accuracy: 0.9846\n",
      "Epoch 24/60\n",
      "252/252 [==============================] - 79s 315ms/step - loss: 1.4639e-05 - accuracy: 1.0000 - val_loss: 0.1079 - val_accuracy: 0.9841\n",
      "Epoch 25/60\n",
      "252/252 [==============================] - 80s 316ms/step - loss: 1.2000e-05 - accuracy: 1.0000 - val_loss: 0.1075 - val_accuracy: 0.9849\n",
      "Epoch 26/60\n",
      "252/252 [==============================] - 80s 317ms/step - loss: 9.7917e-06 - accuracy: 1.0000 - val_loss: 0.1085 - val_accuracy: 0.9851\n",
      "Epoch 27/60\n",
      "252/252 [==============================] - 80s 315ms/step - loss: 8.1169e-06 - accuracy: 1.0000 - val_loss: 0.1158 - val_accuracy: 0.9846\n",
      "Epoch 28/60\n",
      "252/252 [==============================] - 79s 313ms/step - loss: 6.8855e-06 - accuracy: 1.0000 - val_loss: 0.1180 - val_accuracy: 0.9846\n",
      "Epoch 29/60\n",
      "252/252 [==============================] - 80s 319ms/step - loss: 5.8111e-06 - accuracy: 1.0000 - val_loss: 0.1184 - val_accuracy: 0.9851\n",
      "Epoch 30/60\n",
      "252/252 [==============================] - 93s 369ms/step - loss: 4.7078e-06 - accuracy: 1.0000 - val_loss: 0.1148 - val_accuracy: 0.9846\n",
      "Epoch 31/60\n",
      "118/252 [=============>................] - ETA: 44s - loss: 4.1490e-06 - accuracy: 1.0000"
     ]
    }
   ],
   "source": [
    "#Creating a log directory\n",
    "Log_dir = '/home/richard/Desktop/BtainTumorDetectionSystem/Project_Logs'\n",
    "\n",
    "#creating Callbacks\n",
    "Tensorboard_Callback = tf.keras.callbacks.TensorBoard(log_dir = Log_dir)\n",
    "Model_Hist = Model.fit(Train, epochs = 60,validation_data = Validation,callbacks = [Tensorboard_Callback])"
   ]
  },
  {
   "cell_type": "code",
   "execution_count": null,
   "id": "159aaeb3",
   "metadata": {},
   "outputs": [],
   "source": [
    "DetectionModel = '/home/richard/Desktop/BtainTumorDetectionSystem/Models/TumorDetectionModel'\n",
    "Model.save(os.path.join(DetectionModel,'TumorDetectionModel.h5'))\n"
   ]
  },
  {
   "cell_type": "code",
   "execution_count": null,
   "id": "019192bb",
   "metadata": {},
   "outputs": [],
   "source": [
    "Model_Hist.history"
   ]
  },
  {
   "cell_type": "code",
   "execution_count": null,
   "id": "6eae8c84",
   "metadata": {},
   "outputs": [],
   "source": [
    "fig = plt.figure()\n",
    "plt.plot(Model_Hist.history['loss'],color = 'red',label = 'Loss')\n",
    "plt.plot(Model_Hist.history['val_loss'],color = 'blue', label = 'val loss')\n",
    "plt.plot(Model_Hist.history['accuracy'], color = 'green', label = 'accuracy')\n",
    "plt.legend(loc = 'upper right')\n",
    "plt.show()"
   ]
  },
  {
   "cell_type": "code",
   "execution_count": null,
   "id": "fb5cf57a",
   "metadata": {},
   "outputs": [],
   "source": [
    "fig = plt.figure()\n",
    "plt.plot(Model_Hist.history['accuracy'],color = 'green',label = 'Accuracy')\n",
    "plt.plot(Model_Hist.history['val_accuracy'], color = 'blue', label = 'Vali Acc')\n",
    "plt.legend(loc = 'upper right')\n",
    "plt.show()\n"
   ]
  },
  {
   "cell_type": "code",
   "execution_count": null,
   "id": "e0f1c876",
   "metadata": {
    "scrolled": true
   },
   "outputs": [],
   "source": []
  },
  {
   "cell_type": "code",
   "execution_count": null,
   "id": "bbf65367",
   "metadata": {},
   "outputs": [],
   "source": [
    "import cv2\n",
    "import tensorflow as tf\n",
    "\n",
    "TestData = '/home/richard/Nts/BrainTumor/Brain Tumor Data Set/Brain Tumor/Cancer (132).jpg'\n",
    "image_input = cv2.imread(TestData)\n",
    "resizedimg = tf.image.resize(image_input,(256,256))\n",
    "resizedimg.shape\n",
    "img = plt.imshow(resizedimg.numpy().astype(int))\n",
    "plt.show()"
   ]
  },
  {
   "cell_type": "code",
   "execution_count": null,
   "id": "699c3240",
   "metadata": {
    "scrolled": true
   },
   "outputs": [],
   "source": [
    "predictions = Model.predict(np.expand_dims(resizedimg,0))\n",
    "predictions"
   ]
  },
  {
   "cell_type": "code",
   "execution_count": null,
   "id": "79e0170e",
   "metadata": {
    "scrolled": true
   },
   "outputs": [],
   "source": []
  },
  {
   "cell_type": "code",
   "execution_count": null,
   "id": "ecc07869",
   "metadata": {},
   "outputs": [],
   "source": [
    "from tensorflow.keras.models import load_model\n",
    "import os\n",
    "DetectionModel = '/home/richard/Desktop/BtainTumorDetectionSystem/Models/TumorDetectionModel'\n",
    "New_Model = load_model(os.path.join(DetectionModel,'TumorDetectionModel.h5'))\n",
    "pred = New_Model.predict(np.expand_dims(resizedimg,0))\n",
    "\n",
    "if pred<0.5:\n",
    "    print('Tumor detected!!!' )\n",
    "    \n",
    "elif pred >=0.5 and pred <=0.7:\n",
    "    print('Redo the Test!!!')\n",
    "elif pred >0.7 and pred<=1:\n",
    "    print('No Tumor Detected!!!')"
   ]
  },
  {
   "cell_type": "code",
   "execution_count": null,
   "id": "b02a4f30",
   "metadata": {},
   "outputs": [],
   "source": []
  },
  {
   "cell_type": "markdown",
   "id": "4b4bf0ab",
   "metadata": {},
   "source": [
    "# Establishing tumor type."
   ]
  },
  {
   "cell_type": "code",
   "execution_count": null,
   "id": "a0adcf21",
   "metadata": {},
   "outputs": [],
   "source": []
  },
  {
   "cell_type": "code",
   "execution_count": 18,
   "id": "1490be25",
   "metadata": {},
   "outputs": [],
   "source": [
    "GlioMeni = '/home/richard/Desktop/BtainTumorDetectionSystem/TumorTypes/GlioMeni'\n",
    "GlioPitu = '/home/richard/Desktop/BtainTumorDetectionSystem/TumorTypes/GlioPitu'\n",
    "MeniPitu = '/home/richard/Desktop/BtainTumorDetectionSystem/TumorTypes/MeniPitu'\n",
    "GlioNeu = '/home/richard/Desktop/BtainTumorDetectionSystem/TumorTypes/GlioNeu'\n",
    "MeniNeu = '/home/richard/Desktop/BtainTumorDetectionSystem/TumorTypes/MeniNeu'\n",
    "NeuPitu = '/home/richard/Desktop/BtainTumorDetectionSystem/TumorTypes/NeuPitu'\n",
    "\n",
    "GlioSchwa = '/home/richard/Desktop/BtainTumorDetectionSystem/TumorTypes/GlioSchwa'\n",
    "MeniSchwa = '/home/richard/Desktop/BtainTumorDetectionSystem/TumorTypes/MeniSchwa'\n",
    "PituSchwa = '/home/richard/Desktop/BtainTumorDetectionSystem/TumorTypes/PituSchwa'\n",
    "NeuroSchwa = '/home/richard/Desktop/BtainTumorDetectionSystem/TumorTypes/NeuroSchwa'"
   ]
  },
  {
   "cell_type": "code",
   "execution_count": 19,
   "id": "f51be8b6",
   "metadata": {
    "scrolled": false
   },
   "outputs": [
    {
     "name": "stdout",
     "output_type": "stream",
     "text": [
      "Found 2982 files belonging to 2 classes.\n",
      "Found 3229 files belonging to 2 classes.\n",
      "Found 2484 files belonging to 2 classes.\n",
      "Found 2050 files belonging to 2 classes.\n",
      "Found 1455 files belonging to 2 classes.\n",
      "Found 1719 files belonging to 2 classes.\n",
      "Found 1984 files belonging to 2 classes.\n",
      "Found 1221 files belonging to 2 classes.\n",
      "Found 1651 files belonging to 2 classes.\n",
      "Found 456 files belonging to 2 classes.\n"
     ]
    }
   ],
   "source": [
    "GlMe = tf.keras.utils.image_dataset_from_directory(GlioMeni)\n",
    "\n",
    "GlPi = tf.keras.utils.image_dataset_from_directory(GlioPitu)\n",
    "\n",
    "MePi = tf.keras.utils.image_dataset_from_directory(MeniPitu)\n",
    "\n",
    "GlNe = tf.keras.utils.image_dataset_from_directory(GlioNeu)\n",
    "\n",
    "MeNe = tf.keras.utils.image_dataset_from_directory(MeniNeu)\n",
    "\n",
    "NePi = tf.keras.utils.image_dataset_from_directory(NeuPitu)\n",
    "\n",
    "GlSch = tf.keras.utils.image_dataset_from_directory(GlioSchwa)\n",
    "\n",
    "MeSch = tf.keras.utils.image_dataset_from_directory(MeniSchwa)\n",
    "\n",
    "PiSch = tf.keras.utils.image_dataset_from_directory(PituSchwa)\n",
    "\n",
    "NeSch = tf.keras.utils.image_dataset_from_directory(NeuroSchwa)"
   ]
  },
  {
   "cell_type": "code",
   "execution_count": null,
   "id": "a1655e6f",
   "metadata": {},
   "outputs": [],
   "source": []
  },
  {
   "cell_type": "markdown",
   "id": "cf7fe472",
   "metadata": {},
   "source": [
    "# Splitting datasets for predicting type of tumor evident"
   ]
  },
  {
   "cell_type": "code",
   "execution_count": 20,
   "id": "a7e54575",
   "metadata": {},
   "outputs": [],
   "source": [
    "#splitting gliomas and Meningioma datasets\n",
    "gmtra = int(len(GlMe)*.7)\n",
    "gmva = int(len(GlMe)*.2)\n",
    "gmte = int(len(GlMe)*.1)\n",
    "\n",
    "gmtrain = GlMe.take(gmtra)\n",
    "gmval = GlMe.skip(gmtra).take(gmva)\n",
    "gmtest = GlMe.skip(gmtra + gmva).take(gmte)\n",
    "\n",
    "#Splitting gliomas and Pituitary datasets\n",
    "gptra = int(len(GlPi)*.7)\n",
    "gpva = int(len(GlPi)*.2)\n",
    "gpte = int(len(GlPi)*.1)\n",
    "\n",
    "gptrain = GlPi.take(gptra)\n",
    "gpval = GlPi.skip(gptra).take(gpva)\n",
    "gptest = GlPi.skip(gptra + gpva).take(gpte)\n",
    "\n",
    "#Splitting Meningioma and Pituitary datasets\n",
    "mptra = int(len(MePi)*.7)\n",
    "mpva = int(len(MePi)*.2)\n",
    "mpte = int(len(MePi)*.1)\n",
    "\n",
    "mptrain = MePi.take(mptra)\n",
    "mpval = MePi.skip(mptra).take(mpva)\n",
    "mptest = MePi.skip(mptra + mpva).take(mpte)\n",
    "\n",
    "#Split Gliomas Neurocitoma\n",
    "\n",
    "gntra = int(len(GlNe)*.7)\n",
    "gnva = int(len(GlNe)*.2)\n",
    "gnte = int(len(GlNe)*.1)\n",
    "\n",
    "gntrain = GlNe.take(gntra)\n",
    "gnval = GlNe.skip(gntra).take(gnva)\n",
    "gntest = GlNe.skip(gntra + gnva).take(gnte)\n",
    "\n",
    "#Split meningioma Neurocitoma\n",
    "\n",
    "mntra = int(len(MeNe)*.7)\n",
    "mnva = int(len(MeNe)*.2)\n",
    "mnte = int(len(MeNe)*.1)\n",
    "\n",
    "\n",
    "mntrain = MeNe.take(mntra)\n",
    "mnval = MeNe.skip(mntra).take(mnva)\n",
    "mntest = MeNe.skip(mntra + mnva).take(mnte)\n",
    "\n",
    "#split Neurocitoma pituitary\n",
    "\n",
    "nptra = int(len(NePi)*.7)\n",
    "npva = int(len(NePi)*.2)\n",
    "npte = int(len(NePi)*.1)\n",
    "\n",
    "nptrain = NePi.take(nptra)\n",
    "npval = NePi.skip(nptra).take(npva)\n",
    "nptest = NePi.skip(nptra + npva).take(npte)\n",
    "\n",
    "#Split Glioma Schwannoma\n",
    "gstra = int(len(GlSch)*.7)\n",
    "gsva = int(len(GlSch)*.2)\n",
    "gste = int(len(GlSch)*.1)\n",
    "\n",
    "gstrain = GlSch.take(gstra)\n",
    "gsval = GlSch.skip(gstra).take(gsva)\n",
    "gstest = GlSch.skip(gstra + gsva).take(gste)\n",
    "\n",
    "\n",
    "#split Meningioma Schwannoma\n",
    "mstra = int(len(MeSch)*.7)\n",
    "msva = int(len(MeSch)*.2)\n",
    "mste = int(len(MeSch)*.1)\n",
    "\n",
    "mstrain = MeSch.take(mstra)\n",
    "msval = MeSch.skip(mstra).take(msva)\n",
    "mstest = MeSch.skip(mstra + msva).take(mste)\n",
    "\n",
    "\n",
    "#Pituitary vs Schwannoma\n",
    "pstra = int(len(PiSch)*.7)\n",
    "psva = int(len(PiSch)*.2)\n",
    "pste = int(len(PiSch)*.1)\n",
    "\n",
    "pstrain = PiSch.take(pstra)\n",
    "psval = PiSch.skip(pstra).take(psva)\n",
    "pstest = PiSch.skip(pstra + psva).take(pste)\n",
    "\n",
    "#Split Neurocitoma Schwannoma\n",
    "nstra = int(len(NeSch)*.7)\n",
    "nsva = int(len(NeSch)*.2)\n",
    "nste = int(len(NeSch)*.1)\n",
    "\n",
    "nstrain = NeSch.take(nstra)\n",
    "nsval = NeSch.skip(nstra).take(nsva)\n",
    "nstest = NeSch.skip(nstra + nsva).take(nste)\n",
    "\n",
    "\n",
    "\n",
    "\n"
   ]
  },
  {
   "cell_type": "code",
   "execution_count": null,
   "id": "e6e86373",
   "metadata": {
    "scrolled": true
   },
   "outputs": [],
   "source": []
  },
  {
   "cell_type": "code",
   "execution_count": null,
   "id": "3f8b077f",
   "metadata": {},
   "outputs": [],
   "source": []
  },
  {
   "cell_type": "markdown",
   "id": "8a90c5ee",
   "metadata": {},
   "source": [
    "\n",
    "# Test for either glioma or meningioma"
   ]
  },
  {
   "cell_type": "code",
   "execution_count": null,
   "id": "e60b71fc",
   "metadata": {},
   "outputs": [],
   "source": []
  },
  {
   "cell_type": "code",
   "execution_count": null,
   "id": "b0931000",
   "metadata": {},
   "outputs": [],
   "source": [
    "#Creating a Sequential model\n",
    "from tensorflow.keras.models import Sequential\n",
    "from tensorflow.keras.layers import Conv2D, MaxPooling2D,Dense,Flatten\n",
    "\n",
    "GMModel = Sequential()\n",
    "\n",
    "GMModel.add(Conv2D(32,(3,3),1,activation = 'relu',input_shape = (256,256,3)))\n",
    "GMModel.add(MaxPooling2D())\n",
    "\n",
    "GMModel.add(Conv2D(16,(3,3),1,activation = 'relu'))\n",
    "GMModel.add(MaxPooling2D())\n",
    "\n",
    "GMModel.add(Conv2D(32,(3,3),1,activation = 'relu'))\n",
    "GMModel.add(MaxPooling2D())\n",
    "\n",
    "GMModel.add(Flatten())\n",
    "\n",
    "GMModel.add(Dense(256,activation = 'relu'))\n",
    "GMModel.add(Dense(1,activation = 'sigmoid'))\n",
    "GMModel.compile('adam',loss = tf.losses.BinaryCrossentropy(),metrics = ['accuracy'])"
   ]
  },
  {
   "cell_type": "code",
   "execution_count": null,
   "id": "a50129be",
   "metadata": {},
   "outputs": [],
   "source": [
    "GMModel.summary()"
   ]
  },
  {
   "cell_type": "code",
   "execution_count": null,
   "id": "37cc7043",
   "metadata": {},
   "outputs": [],
   "source": [
    "GMlog = '/home/richard/Desktop/BtainTumorDetectionSystem/TypeLogFolder/GlMeLogs'"
   ]
  },
  {
   "cell_type": "code",
   "execution_count": null,
   "id": "ce186444",
   "metadata": {},
   "outputs": [],
   "source": [
    "T_CallBack = tf.keras.callbacks.TensorBoard(log_dir = GMlog)\n",
    "GM_Hist = GMModel.fit(gmtrain,epochs = 20,validation_data = gmval,callbacks = [T_CallBack])"
   ]
  },
  {
   "cell_type": "code",
   "execution_count": null,
   "id": "9f24cb60",
   "metadata": {},
   "outputs": [],
   "source": [
    "#Saving Model\n",
    "GliMe_Model = '/home/richard/Desktop/BtainTumorDetectionSystem/Models/GlioMeniModel'\n",
    "GMModel.save(os.path.join(GliMe_Model,'gliomameningiomamodel.h5'))"
   ]
  },
  {
   "cell_type": "code",
   "execution_count": null,
   "id": "2403093c",
   "metadata": {},
   "outputs": [],
   "source": []
  },
  {
   "cell_type": "markdown",
   "id": "b19ca565",
   "metadata": {},
   "source": [
    "# Test for either glioma or pituitary"
   ]
  },
  {
   "cell_type": "code",
   "execution_count": null,
   "id": "36df35fa",
   "metadata": {},
   "outputs": [],
   "source": [
    "#Creating a Sequential model\n",
    "from tensorflow.keras.models import Sequential\n",
    "from tensorflow.keras.layers import Conv2D, MaxPooling2D,Dense,Flatten\n",
    "\n",
    "GPModel = Sequential()\n",
    "\n",
    "GPModel.add(Conv2D(32,(3,3),1,activation = 'relu',input_shape = (256,256,3)))\n",
    "GPModel.add(MaxPooling2D())\n",
    "\n",
    "GPModel.add(Conv2D(16,(3,3),1,activation = 'relu'))\n",
    "GPModel.add(MaxPooling2D())\n",
    "\n",
    "GPModel.add(Conv2D(32,(3,3),1,activation = 'relu'))\n",
    "GPModel.add(MaxPooling2D())\n",
    "\n",
    "GPModel.add(Flatten())\n",
    "\n",
    "GPModel.add(Dense(256,activation = 'relu'))\n",
    "GPModel.add(Dense(1,activation = 'sigmoid'))\n",
    "GPModel.compile('adam',loss = tf.losses.BinaryCrossentropy(),metrics = ['accuracy'])"
   ]
  },
  {
   "cell_type": "code",
   "execution_count": null,
   "id": "4b770e9d",
   "metadata": {},
   "outputs": [],
   "source": [
    "GPModel.summary()"
   ]
  },
  {
   "cell_type": "code",
   "execution_count": null,
   "id": "d827b39d",
   "metadata": {},
   "outputs": [],
   "source": [
    "GPlog = '/home/richard/Desktop/BtainTumorDetectionSystem/TypeLogFolder/GlPilogs'"
   ]
  },
  {
   "cell_type": "code",
   "execution_count": null,
   "id": "09340671",
   "metadata": {},
   "outputs": [],
   "source": [
    "GP_CallBack = tf.keras.callbacks.TensorBoard(log_dir = GPlog)\n",
    "GP_Hist = GPModel.fit(gptrain,epochs = 30,validation_data = gpval,callbacks = [GP_CallBack])"
   ]
  },
  {
   "cell_type": "code",
   "execution_count": null,
   "id": "fb8f19b0",
   "metadata": {},
   "outputs": [],
   "source": [
    "#Saving the model\n",
    "GliPi_Model = '/home/richard/Desktop/BtainTumorDetectionSystem/Models/GlioPituModel'\n",
    "GPModel.save(os.path.join(GliPi_Model,'gliomapituitarymodel.h5'))\n"
   ]
  },
  {
   "cell_type": "code",
   "execution_count": null,
   "id": "fc8ffc93",
   "metadata": {},
   "outputs": [],
   "source": []
  },
  {
   "cell_type": "code",
   "execution_count": null,
   "id": "5c6a3e16",
   "metadata": {},
   "outputs": [],
   "source": []
  },
  {
   "cell_type": "code",
   "execution_count": null,
   "id": "c4186142",
   "metadata": {},
   "outputs": [],
   "source": []
  },
  {
   "cell_type": "markdown",
   "id": "7bf845cb",
   "metadata": {},
   "source": [
    "# Test for either meningioma or pituitary"
   ]
  },
  {
   "cell_type": "code",
   "execution_count": 34,
   "id": "569e6c3c",
   "metadata": {},
   "outputs": [],
   "source": [
    "#Creating a Sequential model\n",
    "from tensorflow.keras.models import Sequential\n",
    "from tensorflow.keras.layers import Conv2D, MaxPooling2D,Dense,Flatten\n",
    "\n",
    "MPModel = Sequential()\n",
    "\n",
    "MPModel.add(Conv2D(32,(3,3),1,activation = 'relu',input_shape = (256,256,3)))\n",
    "MPModel.add(MaxPooling2D())\n",
    "\n",
    "MPModel.add(Conv2D(16,(3,3),1,activation = 'relu'))\n",
    "MPModel.add(MaxPooling2D())\n",
    "\n",
    "MPModel.add(Conv2D(32,(3,3),1,activation = 'relu'))\n",
    "MPModel.add(MaxPooling2D())\n",
    "\n",
    "MPModel.add(Flatten())\n",
    "\n",
    "MPModel.add(Dense(256,activation = 'relu'))\n",
    "MPModel.add(Dense(1,activation = 'sigmoid'))\n",
    "MPModel.compile('adam',loss = tf.losses.BinaryCrossentropy(),metrics = ['accuracy'])"
   ]
  },
  {
   "cell_type": "code",
   "execution_count": 35,
   "id": "5f89742c",
   "metadata": {
    "collapsed": true
   },
   "outputs": [
    {
     "name": "stdout",
     "output_type": "stream",
     "text": [
      "Model: \"sequential_3\"\n",
      "_________________________________________________________________\n",
      " Layer (type)                Output Shape              Param #   \n",
      "=================================================================\n",
      " conv2d_9 (Conv2D)           (None, 254, 254, 32)      896       \n",
      "                                                                 \n",
      " max_pooling2d_9 (MaxPooling  (None, 127, 127, 32)     0         \n",
      " 2D)                                                             \n",
      "                                                                 \n",
      " conv2d_10 (Conv2D)          (None, 125, 125, 16)      4624      \n",
      "                                                                 \n",
      " max_pooling2d_10 (MaxPoolin  (None, 62, 62, 16)       0         \n",
      " g2D)                                                            \n",
      "                                                                 \n",
      " conv2d_11 (Conv2D)          (None, 60, 60, 32)        4640      \n",
      "                                                                 \n",
      " max_pooling2d_11 (MaxPoolin  (None, 30, 30, 32)       0         \n",
      " g2D)                                                            \n",
      "                                                                 \n",
      " flatten_3 (Flatten)         (None, 28800)             0         \n",
      "                                                                 \n",
      " dense_6 (Dense)             (None, 256)               7373056   \n",
      "                                                                 \n",
      " dense_7 (Dense)             (None, 1)                 257       \n",
      "                                                                 \n",
      "=================================================================\n",
      "Total params: 7,383,473\n",
      "Trainable params: 7,383,473\n",
      "Non-trainable params: 0\n",
      "_________________________________________________________________\n"
     ]
    }
   ],
   "source": [
    "MPModel.summary()"
   ]
  },
  {
   "cell_type": "code",
   "execution_count": 36,
   "id": "c3a0a9df",
   "metadata": {},
   "outputs": [],
   "source": [
    "MPlog = '/home/richard/Desktop/BtainTumorDetectionSystem/TypeLogFolder/MePiLogs'"
   ]
  },
  {
   "cell_type": "code",
   "execution_count": 37,
   "id": "5038d236",
   "metadata": {
    "collapsed": true
   },
   "outputs": [
    {
     "name": "stdout",
     "output_type": "stream",
     "text": [
      "Epoch 1/50\n",
      "54/54 [==============================] - 19s 308ms/step - loss: 15.9888 - accuracy: 0.7894 - val_loss: 0.2156 - val_accuracy: 0.9146\n",
      "Epoch 2/50\n",
      "54/54 [==============================] - 16s 294ms/step - loss: 0.1431 - accuracy: 0.9502 - val_loss: 0.1170 - val_accuracy: 0.9708\n",
      "Epoch 3/50\n",
      "54/54 [==============================] - 17s 315ms/step - loss: 0.0585 - accuracy: 0.9821 - val_loss: 0.1234 - val_accuracy: 0.9646\n",
      "Epoch 4/50\n",
      "54/54 [==============================] - 17s 313ms/step - loss: 0.0290 - accuracy: 0.9925 - val_loss: 0.0742 - val_accuracy: 0.9750\n",
      "Epoch 5/50\n",
      "54/54 [==============================] - 18s 331ms/step - loss: 0.0124 - accuracy: 0.9983 - val_loss: 0.0803 - val_accuracy: 0.9896\n",
      "Epoch 6/50\n",
      "54/54 [==============================] - 18s 334ms/step - loss: 0.0117 - accuracy: 0.9983 - val_loss: 0.0747 - val_accuracy: 0.9854\n",
      "Epoch 7/50\n",
      "54/54 [==============================] - 16s 298ms/step - loss: 0.0036 - accuracy: 1.0000 - val_loss: 0.0792 - val_accuracy: 0.9875\n",
      "Epoch 8/50\n",
      "54/54 [==============================] - 17s 306ms/step - loss: 0.0013 - accuracy: 1.0000 - val_loss: 0.0689 - val_accuracy: 0.9854\n",
      "Epoch 9/50\n",
      "54/54 [==============================] - 17s 307ms/step - loss: 9.6344e-04 - accuracy: 1.0000 - val_loss: 0.0992 - val_accuracy: 0.9854\n",
      "Epoch 10/50\n",
      "54/54 [==============================] - 16s 295ms/step - loss: 8.4366e-04 - accuracy: 1.0000 - val_loss: 0.0297 - val_accuracy: 0.9937\n",
      "Epoch 11/50\n",
      "54/54 [==============================] - 16s 294ms/step - loss: 3.5567e-04 - accuracy: 1.0000 - val_loss: 0.0886 - val_accuracy: 0.9917\n",
      "Epoch 12/50\n",
      "54/54 [==============================] - 14s 263ms/step - loss: 2.5776e-04 - accuracy: 1.0000 - val_loss: 0.0890 - val_accuracy: 0.9875\n",
      "Epoch 13/50\n",
      "54/54 [==============================] - 16s 303ms/step - loss: 2.1086e-04 - accuracy: 1.0000 - val_loss: 0.0665 - val_accuracy: 0.9917\n",
      "Epoch 14/50\n",
      "54/54 [==============================] - 17s 306ms/step - loss: 1.5984e-04 - accuracy: 1.0000 - val_loss: 0.1108 - val_accuracy: 0.9875\n",
      "Epoch 15/50\n",
      "54/54 [==============================] - 17s 312ms/step - loss: 1.4784e-04 - accuracy: 1.0000 - val_loss: 0.0981 - val_accuracy: 0.9875\n",
      "Epoch 16/50\n",
      "54/54 [==============================] - 19s 349ms/step - loss: 1.2564e-04 - accuracy: 1.0000 - val_loss: 0.0627 - val_accuracy: 0.9937\n",
      "Epoch 17/50\n",
      "54/54 [==============================] - 15s 273ms/step - loss: 1.0285e-04 - accuracy: 1.0000 - val_loss: 0.0872 - val_accuracy: 0.9937\n",
      "Epoch 18/50\n",
      "54/54 [==============================] - 16s 300ms/step - loss: 9.4209e-05 - accuracy: 1.0000 - val_loss: 0.1336 - val_accuracy: 0.9875\n",
      "Epoch 19/50\n",
      "54/54 [==============================] - 17s 307ms/step - loss: 8.8357e-05 - accuracy: 1.0000 - val_loss: 0.0991 - val_accuracy: 0.9875\n",
      "Epoch 20/50\n",
      "54/54 [==============================] - 16s 291ms/step - loss: 6.9431e-05 - accuracy: 1.0000 - val_loss: 0.1051 - val_accuracy: 0.9896\n",
      "Epoch 21/50\n",
      "54/54 [==============================] - 18s 330ms/step - loss: 6.2556e-05 - accuracy: 1.0000 - val_loss: 0.0843 - val_accuracy: 0.9896\n",
      "Epoch 22/50\n",
      "54/54 [==============================] - 16s 292ms/step - loss: 5.3811e-05 - accuracy: 1.0000 - val_loss: 0.1071 - val_accuracy: 0.9896\n",
      "Epoch 23/50\n",
      "54/54 [==============================] - 16s 292ms/step - loss: 5.7529e-05 - accuracy: 1.0000 - val_loss: 0.0207 - val_accuracy: 0.9937\n",
      "Epoch 24/50\n",
      "54/54 [==============================] - 16s 294ms/step - loss: 4.7995e-05 - accuracy: 1.0000 - val_loss: 0.0363 - val_accuracy: 0.9937\n",
      "Epoch 25/50\n",
      "54/54 [==============================] - 16s 293ms/step - loss: 4.2338e-05 - accuracy: 1.0000 - val_loss: 0.0517 - val_accuracy: 0.9917\n",
      "Epoch 26/50\n",
      "54/54 [==============================] - 16s 293ms/step - loss: 3.6633e-05 - accuracy: 1.0000 - val_loss: 0.1230 - val_accuracy: 0.9854\n",
      "Epoch 27/50\n",
      "54/54 [==============================] - 16s 292ms/step - loss: 3.6396e-05 - accuracy: 1.0000 - val_loss: 0.0620 - val_accuracy: 0.9917\n",
      "Epoch 28/50\n",
      "54/54 [==============================] - 16s 293ms/step - loss: 3.0434e-05 - accuracy: 1.0000 - val_loss: 0.1025 - val_accuracy: 0.9875\n",
      "Epoch 29/50\n",
      "54/54 [==============================] - 16s 291ms/step - loss: 2.9225e-05 - accuracy: 1.0000 - val_loss: 0.1290 - val_accuracy: 0.9854\n",
      "Epoch 30/50\n",
      "54/54 [==============================] - 16s 293ms/step - loss: 2.7374e-05 - accuracy: 1.0000 - val_loss: 0.1312 - val_accuracy: 0.9854\n",
      "Epoch 31/50\n",
      "54/54 [==============================] - 16s 293ms/step - loss: 2.5496e-05 - accuracy: 1.0000 - val_loss: 0.1200 - val_accuracy: 0.9875\n",
      "Epoch 32/50\n",
      "54/54 [==============================] - 16s 291ms/step - loss: 2.2600e-05 - accuracy: 1.0000 - val_loss: 0.1417 - val_accuracy: 0.9833\n",
      "Epoch 33/50\n",
      "54/54 [==============================] - 16s 291ms/step - loss: 1.9751e-05 - accuracy: 1.0000 - val_loss: 0.0821 - val_accuracy: 0.9896\n",
      "Epoch 34/50\n",
      "54/54 [==============================] - 16s 292ms/step - loss: 2.1141e-05 - accuracy: 1.0000 - val_loss: 0.0998 - val_accuracy: 0.9875\n",
      "Epoch 35/50\n",
      "54/54 [==============================] - 16s 290ms/step - loss: 1.7998e-05 - accuracy: 1.0000 - val_loss: 0.0640 - val_accuracy: 0.9896\n",
      "Epoch 36/50\n",
      "54/54 [==============================] - 16s 291ms/step - loss: 1.6999e-05 - accuracy: 1.0000 - val_loss: 0.0958 - val_accuracy: 0.9875\n",
      "Epoch 37/50\n",
      "54/54 [==============================] - 16s 292ms/step - loss: 2.3438e-05 - accuracy: 1.0000 - val_loss: 0.0288 - val_accuracy: 0.9937\n",
      "Epoch 38/50\n",
      "54/54 [==============================] - 16s 290ms/step - loss: 1.9146e-05 - accuracy: 1.0000 - val_loss: 0.0779 - val_accuracy: 0.9937\n",
      "Epoch 39/50\n",
      "54/54 [==============================] - 16s 295ms/step - loss: 1.4357e-05 - accuracy: 1.0000 - val_loss: 0.0958 - val_accuracy: 0.9875\n",
      "Epoch 40/50\n",
      "54/54 [==============================] - 16s 293ms/step - loss: 1.5328e-05 - accuracy: 1.0000 - val_loss: 0.1331 - val_accuracy: 0.9875\n",
      "Epoch 41/50\n",
      "54/54 [==============================] - 16s 293ms/step - loss: 1.4769e-05 - accuracy: 1.0000 - val_loss: 0.1159 - val_accuracy: 0.9917\n",
      "Epoch 42/50\n",
      "54/54 [==============================] - 18s 334ms/step - loss: 1.1563e-05 - accuracy: 1.0000 - val_loss: 0.0979 - val_accuracy: 0.9917\n",
      "Epoch 43/50\n",
      "54/54 [==============================] - 16s 292ms/step - loss: 1.1138e-05 - accuracy: 1.0000 - val_loss: 0.0888 - val_accuracy: 0.9937\n",
      "Epoch 44/50\n",
      "54/54 [==============================] - 16s 291ms/step - loss: 1.3061e-05 - accuracy: 1.0000 - val_loss: 0.0989 - val_accuracy: 0.9875\n",
      "Epoch 45/50\n",
      "54/54 [==============================] - 16s 292ms/step - loss: 1.0355e-05 - accuracy: 1.0000 - val_loss: 0.0965 - val_accuracy: 0.9896\n",
      "Epoch 46/50\n",
      "54/54 [==============================] - 16s 294ms/step - loss: 1.1520e-05 - accuracy: 1.0000 - val_loss: 0.1476 - val_accuracy: 0.9854\n",
      "Epoch 47/50\n",
      "54/54 [==============================] - 16s 294ms/step - loss: 9.0323e-06 - accuracy: 1.0000 - val_loss: 0.0947 - val_accuracy: 0.9896\n",
      "Epoch 48/50\n",
      "54/54 [==============================] - 16s 292ms/step - loss: 8.1035e-06 - accuracy: 1.0000 - val_loss: 0.1273 - val_accuracy: 0.9896\n",
      "Epoch 49/50\n",
      "54/54 [==============================] - 16s 292ms/step - loss: 7.7782e-06 - accuracy: 1.0000 - val_loss: 0.0531 - val_accuracy: 0.9937\n",
      "Epoch 50/50\n",
      "54/54 [==============================] - 16s 292ms/step - loss: 7.9937e-06 - accuracy: 1.0000 - val_loss: 0.1050 - val_accuracy: 0.9896\n"
     ]
    },
    {
     "data": {
      "text/plain": [
       "<keras.callbacks.History at 0x7f42a8396550>"
      ]
     },
     "execution_count": 37,
     "metadata": {},
     "output_type": "execute_result"
    }
   ],
   "source": [
    "MP_Callback = tf.keras.callbacks.TensorBoard(log_dir = MPlog)\n",
    "MPModel.fit(mptrain, epochs = 20, validation_data = mpval,callbacks = MP_Callback)"
   ]
  },
  {
   "cell_type": "code",
   "execution_count": 38,
   "id": "48a15ade",
   "metadata": {},
   "outputs": [],
   "source": [
    "#Saving the model\n",
    "MePi_Model = '/home/richard/Desktop/BtainTumorDetectionSystem/Models/meniPituModel'\n",
    "MPModel.save(os.path.join(MePi_Model,'meningiomapituitarymodel.h5'))"
   ]
  },
  {
   "cell_type": "code",
   "execution_count": null,
   "id": "fc1172bf",
   "metadata": {},
   "outputs": [],
   "source": []
  },
  {
   "cell_type": "code",
   "execution_count": null,
   "id": "e8efc742",
   "metadata": {},
   "outputs": [],
   "source": []
  },
  {
   "cell_type": "code",
   "execution_count": null,
   "id": "e6187860",
   "metadata": {},
   "outputs": [],
   "source": []
  },
  {
   "cell_type": "markdown",
   "id": "b3193a93",
   "metadata": {},
   "source": [
    "# Glioma or Neurocitoma\n"
   ]
  },
  {
   "cell_type": "code",
   "execution_count": null,
   "id": "98398e6b",
   "metadata": {},
   "outputs": [],
   "source": [
    "#Creating a Sequential model\n",
    "from tensorflow.keras.models import Sequential\n",
    "from tensorflow.keras.layers import Conv2D, MaxPooling2D,Dense,Flatten\n",
    "\n",
    "GNModel = Sequential()\n",
    "\n",
    "GNModel.add(Conv2D(32,(3,3),1,activation = 'relu',input_shape = (256,256,3)))\n",
    "GNModel.add(MaxPooling2D())\n",
    "\n",
    "GNModel.add(Conv2D(16,(3,3),1,activation = 'relu'))\n",
    "GNModel.add(MaxPooling2D())\n",
    "\n",
    "GNModel.add(Conv2D(32,(3,3),1,activation = 'relu'))\n",
    "GNModel.add(MaxPooling2D())\n",
    "\n",
    "GNModel.add(Flatten())\n",
    "\n",
    "GNModel.add(Dense(256,activation = 'relu'))\n",
    "GNModel.add(Dense(1,activation = 'sigmoid'))\n",
    "GNModel.compile('adam',loss = tf.losses.BinaryCrossentropy(),metrics = ['accuracy'])"
   ]
  },
  {
   "cell_type": "code",
   "execution_count": null,
   "id": "6cb7774f",
   "metadata": {},
   "outputs": [],
   "source": [
    "GNModel.summary()"
   ]
  },
  {
   "cell_type": "code",
   "execution_count": null,
   "id": "b908ae23",
   "metadata": {},
   "outputs": [],
   "source": [
    "GNLog = '/home/richard/Desktop/BtainTumorDetectionSystem/TypeLogFolder/GlNelogs'\n",
    "\n",
    "GN_callback = tf.keras.callbacks.TensorBoard(log_dir = 'GNLog') \n",
    "\n",
    "GNModel.fit(gntrain, epochs = 20, validation_data = gnval, callbacks = GN_callback)"
   ]
  },
  {
   "cell_type": "code",
   "execution_count": null,
   "id": "88feaf3f",
   "metadata": {},
   "outputs": [],
   "source": [
    "GlioNeuMod = '/home/richard/Desktop/BtainTumorDetectionSystem/Models/GlioNeuModel'\n",
    "GNModel.save(os.path.join(GlioNeuMod,'gliomaneurocitomamodel.h5'))"
   ]
  },
  {
   "cell_type": "code",
   "execution_count": null,
   "id": "36200be8",
   "metadata": {},
   "outputs": [],
   "source": []
  },
  {
   "cell_type": "code",
   "execution_count": null,
   "id": "8db7ffe7",
   "metadata": {},
   "outputs": [],
   "source": []
  },
  {
   "cell_type": "code",
   "execution_count": null,
   "id": "4fa8412a",
   "metadata": {},
   "outputs": [],
   "source": []
  },
  {
   "cell_type": "markdown",
   "id": "a39d16a7",
   "metadata": {},
   "source": [
    "# Meningioma or Neurocitoma\n"
   ]
  },
  {
   "cell_type": "code",
   "execution_count": 43,
   "id": "fc16ed42",
   "metadata": {},
   "outputs": [],
   "source": [
    "#Creating a Sequential model\n",
    "from tensorflow.keras.models import Sequential\n",
    "from tensorflow.keras.layers import Conv2D, MaxPooling2D,Dense,Flatten\n",
    "\n",
    "MNModel = Sequential()\n",
    "\n",
    "MNModel.add(Conv2D(32,(3,3),1,activation = 'relu',input_shape = (256,256,3)))\n",
    "MNModel.add(MaxPooling2D())\n",
    "\n",
    "MNModel.add(Conv2D(16,(3,3),1,activation = 'relu'))\n",
    "MNModel.add(MaxPooling2D())\n",
    "\n",
    "MNModel.add(Conv2D(32,(3,3),1,activation = 'relu'))\n",
    "MNModel.add(MaxPooling2D())\n",
    "\n",
    "MNModel.add(Flatten())\n",
    "\n",
    "MNModel.add(Dense(256,activation = 'relu'))\n",
    "MNModel.add(Dense(1,activation = 'sigmoid'))\n",
    "MNModel.compile('adam',loss = tf.losses.BinaryCrossentropy(),metrics = ['accuracy'])"
   ]
  },
  {
   "cell_type": "code",
   "execution_count": 44,
   "id": "1f184def",
   "metadata": {},
   "outputs": [
    {
     "name": "stdout",
     "output_type": "stream",
     "text": [
      "Model: \"sequential_5\"\n",
      "_________________________________________________________________\n",
      " Layer (type)                Output Shape              Param #   \n",
      "=================================================================\n",
      " conv2d_15 (Conv2D)          (None, 254, 254, 32)      896       \n",
      "                                                                 \n",
      " max_pooling2d_15 (MaxPoolin  (None, 127, 127, 32)     0         \n",
      " g2D)                                                            \n",
      "                                                                 \n",
      " conv2d_16 (Conv2D)          (None, 125, 125, 16)      4624      \n",
      "                                                                 \n",
      " max_pooling2d_16 (MaxPoolin  (None, 62, 62, 16)       0         \n",
      " g2D)                                                            \n",
      "                                                                 \n",
      " conv2d_17 (Conv2D)          (None, 60, 60, 32)        4640      \n",
      "                                                                 \n",
      " max_pooling2d_17 (MaxPoolin  (None, 30, 30, 32)       0         \n",
      " g2D)                                                            \n",
      "                                                                 \n",
      " flatten_5 (Flatten)         (None, 28800)             0         \n",
      "                                                                 \n",
      " dense_10 (Dense)            (None, 256)               7373056   \n",
      "                                                                 \n",
      " dense_11 (Dense)            (None, 1)                 257       \n",
      "                                                                 \n",
      "=================================================================\n",
      "Total params: 7,383,473\n",
      "Trainable params: 7,383,473\n",
      "Non-trainable params: 0\n",
      "_________________________________________________________________\n"
     ]
    }
   ],
   "source": [
    "MNModel.summary()"
   ]
  },
  {
   "cell_type": "code",
   "execution_count": 45,
   "id": "09b4d355",
   "metadata": {},
   "outputs": [
    {
     "name": "stdout",
     "output_type": "stream",
     "text": [
      "Epoch 1/50\n",
      "32/32 [==============================] - 12s 303ms/step - loss: 17.1701 - accuracy: 0.7959 - val_loss: 0.3198 - val_accuracy: 0.9201\n",
      "Epoch 2/50\n",
      "32/32 [==============================] - 10s 304ms/step - loss: 0.1682 - accuracy: 0.9531 - val_loss: 0.1402 - val_accuracy: 0.9653\n",
      "Epoch 3/50\n",
      "32/32 [==============================] - 10s 324ms/step - loss: 0.0751 - accuracy: 0.9736 - val_loss: 0.0437 - val_accuracy: 0.9792\n",
      "Epoch 4/50\n",
      "32/32 [==============================] - 10s 310ms/step - loss: 0.0283 - accuracy: 0.9922 - val_loss: 0.0223 - val_accuracy: 0.9931\n",
      "Epoch 5/50\n",
      "32/32 [==============================] - 10s 313ms/step - loss: 0.0152 - accuracy: 0.9971 - val_loss: 0.0119 - val_accuracy: 1.0000\n",
      "Epoch 6/50\n",
      "32/32 [==============================] - 9s 294ms/step - loss: 0.0055 - accuracy: 1.0000 - val_loss: 0.0067 - val_accuracy: 0.9965\n",
      "Epoch 7/50\n",
      "32/32 [==============================] - 10s 313ms/step - loss: 0.0027 - accuracy: 1.0000 - val_loss: 0.0057 - val_accuracy: 0.9965\n",
      "Epoch 8/50\n",
      "32/32 [==============================] - 10s 325ms/step - loss: 0.0017 - accuracy: 1.0000 - val_loss: 0.0101 - val_accuracy: 0.9965\n",
      "Epoch 9/50\n",
      "32/32 [==============================] - 10s 317ms/step - loss: 0.0011 - accuracy: 1.0000 - val_loss: 0.0091 - val_accuracy: 0.9965\n",
      "Epoch 10/50\n",
      "32/32 [==============================] - 10s 302ms/step - loss: 8.7418e-04 - accuracy: 1.0000 - val_loss: 0.0082 - val_accuracy: 0.9965\n",
      "Epoch 11/50\n",
      "32/32 [==============================] - 10s 320ms/step - loss: 5.7778e-04 - accuracy: 1.0000 - val_loss: 0.0028 - val_accuracy: 1.0000\n",
      "Epoch 12/50\n",
      "32/32 [==============================] - 10s 311ms/step - loss: 5.2130e-04 - accuracy: 1.0000 - val_loss: 0.0014 - val_accuracy: 1.0000\n",
      "Epoch 13/50\n",
      "32/32 [==============================] - 9s 293ms/step - loss: 3.7509e-04 - accuracy: 1.0000 - val_loss: 0.0020 - val_accuracy: 1.0000\n",
      "Epoch 14/50\n",
      "32/32 [==============================] - 10s 317ms/step - loss: 3.3123e-04 - accuracy: 1.0000 - val_loss: 0.0165 - val_accuracy: 0.9965\n",
      "Epoch 15/50\n",
      "32/32 [==============================] - 10s 317ms/step - loss: 2.4751e-04 - accuracy: 1.0000 - val_loss: 0.0024 - val_accuracy: 1.0000\n",
      "Epoch 16/50\n",
      "32/32 [==============================] - 10s 308ms/step - loss: 2.1718e-04 - accuracy: 1.0000 - val_loss: 0.0188 - val_accuracy: 0.9965\n",
      "Epoch 17/50\n",
      "32/32 [==============================] - 10s 313ms/step - loss: 1.6204e-04 - accuracy: 1.0000 - val_loss: 0.0172 - val_accuracy: 0.9965\n",
      "Epoch 18/50\n",
      "32/32 [==============================] - 10s 310ms/step - loss: 1.5409e-04 - accuracy: 1.0000 - val_loss: 0.0018 - val_accuracy: 1.0000\n",
      "Epoch 19/50\n",
      "32/32 [==============================] - 9s 294ms/step - loss: 1.5228e-04 - accuracy: 1.0000 - val_loss: 0.0182 - val_accuracy: 0.9965\n",
      "Epoch 20/50\n",
      "32/32 [==============================] - 10s 299ms/step - loss: 1.2719e-04 - accuracy: 1.0000 - val_loss: 0.0209 - val_accuracy: 0.9965\n",
      "Epoch 21/50\n",
      "32/32 [==============================] - 10s 310ms/step - loss: 1.0442e-04 - accuracy: 1.0000 - val_loss: 4.3584e-04 - val_accuracy: 1.0000\n",
      "Epoch 22/50\n",
      "32/32 [==============================] - 11s 330ms/step - loss: 9.8516e-05 - accuracy: 1.0000 - val_loss: 0.0203 - val_accuracy: 0.9965\n",
      "Epoch 23/50\n",
      "32/32 [==============================] - 10s 317ms/step - loss: 8.3201e-05 - accuracy: 1.0000 - val_loss: 5.9496e-04 - val_accuracy: 1.0000\n",
      "Epoch 24/50\n",
      "32/32 [==============================] - 10s 307ms/step - loss: 6.5364e-05 - accuracy: 1.0000 - val_loss: 2.6073e-04 - val_accuracy: 1.0000\n",
      "Epoch 25/50\n",
      "32/32 [==============================] - 10s 309ms/step - loss: 7.0461e-05 - accuracy: 1.0000 - val_loss: 5.2644e-04 - val_accuracy: 1.0000\n",
      "Epoch 26/50\n",
      "32/32 [==============================] - 10s 300ms/step - loss: 6.2469e-05 - accuracy: 1.0000 - val_loss: 0.0239 - val_accuracy: 0.9965\n",
      "Epoch 27/50\n",
      "32/32 [==============================] - 10s 296ms/step - loss: 6.1343e-05 - accuracy: 1.0000 - val_loss: 7.0723e-04 - val_accuracy: 1.0000\n",
      "Epoch 28/50\n",
      "32/32 [==============================] - 9s 294ms/step - loss: 5.6505e-05 - accuracy: 1.0000 - val_loss: 7.3351e-04 - val_accuracy: 1.0000\n",
      "Epoch 29/50\n",
      "32/32 [==============================] - 10s 307ms/step - loss: 5.4393e-05 - accuracy: 1.0000 - val_loss: 8.3608e-04 - val_accuracy: 1.0000\n",
      "Epoch 30/50\n",
      "32/32 [==============================] - 10s 315ms/step - loss: 4.8311e-05 - accuracy: 1.0000 - val_loss: 0.0243 - val_accuracy: 0.9965\n",
      "Epoch 31/50\n",
      "32/32 [==============================] - 9s 294ms/step - loss: 4.2283e-05 - accuracy: 1.0000 - val_loss: 0.0270 - val_accuracy: 0.9965\n",
      "Epoch 32/50\n",
      "32/32 [==============================] - 10s 299ms/step - loss: 4.1176e-05 - accuracy: 1.0000 - val_loss: 0.0258 - val_accuracy: 0.9965\n",
      "Epoch 33/50\n",
      "32/32 [==============================] - 10s 316ms/step - loss: 3.9826e-05 - accuracy: 1.0000 - val_loss: 0.0277 - val_accuracy: 0.9965\n",
      "Epoch 34/50\n",
      "32/32 [==============================] - 10s 298ms/step - loss: 3.2478e-05 - accuracy: 1.0000 - val_loss: 0.0290 - val_accuracy: 0.9965\n",
      "Epoch 35/50\n",
      "32/32 [==============================] - 10s 314ms/step - loss: 3.1756e-05 - accuracy: 1.0000 - val_loss: 0.0275 - val_accuracy: 0.9965\n",
      "Epoch 36/50\n",
      "32/32 [==============================] - 10s 312ms/step - loss: 2.9251e-05 - accuracy: 1.0000 - val_loss: 5.0773e-05 - val_accuracy: 1.0000\n",
      "Epoch 37/50\n",
      "32/32 [==============================] - 10s 313ms/step - loss: 2.4308e-05 - accuracy: 1.0000 - val_loss: 0.0296 - val_accuracy: 0.9965\n",
      "Epoch 38/50\n",
      "32/32 [==============================] - 10s 307ms/step - loss: 2.9760e-05 - accuracy: 1.0000 - val_loss: 0.0291 - val_accuracy: 0.9965\n",
      "Epoch 39/50\n",
      "32/32 [==============================] - 10s 294ms/step - loss: 2.6009e-05 - accuracy: 1.0000 - val_loss: 5.2843e-05 - val_accuracy: 1.0000\n",
      "Epoch 40/50\n",
      "32/32 [==============================] - 10s 301ms/step - loss: 2.4843e-05 - accuracy: 1.0000 - val_loss: 6.3965e-04 - val_accuracy: 1.0000\n",
      "Epoch 41/50\n",
      "32/32 [==============================] - 10s 313ms/step - loss: 2.1954e-05 - accuracy: 1.0000 - val_loss: 0.0313 - val_accuracy: 0.9965\n",
      "Epoch 42/50\n",
      "32/32 [==============================] - 10s 302ms/step - loss: 1.8915e-05 - accuracy: 1.0000 - val_loss: 6.0286e-04 - val_accuracy: 1.0000\n",
      "Epoch 43/50\n",
      "32/32 [==============================] - 10s 313ms/step - loss: 2.2596e-05 - accuracy: 1.0000 - val_loss: 3.1884e-04 - val_accuracy: 1.0000\n",
      "Epoch 44/50\n",
      "32/32 [==============================] - 10s 308ms/step - loss: 1.5310e-05 - accuracy: 1.0000 - val_loss: 3.4641e-04 - val_accuracy: 1.0000\n",
      "Epoch 45/50\n",
      "32/32 [==============================] - 10s 310ms/step - loss: 1.5166e-05 - accuracy: 1.0000 - val_loss: 3.5428e-04 - val_accuracy: 1.0000\n",
      "Epoch 46/50\n",
      "32/32 [==============================] - 10s 313ms/step - loss: 1.6395e-05 - accuracy: 1.0000 - val_loss: 3.1195e-04 - val_accuracy: 1.0000\n",
      "Epoch 47/50\n",
      "32/32 [==============================] - 9s 285ms/step - loss: 1.3407e-05 - accuracy: 1.0000 - val_loss: 5.7751e-04 - val_accuracy: 1.0000\n",
      "Epoch 48/50\n",
      "32/32 [==============================] - 9s 291ms/step - loss: 1.3825e-05 - accuracy: 1.0000 - val_loss: 3.1413e-04 - val_accuracy: 1.0000\n",
      "Epoch 49/50\n",
      "32/32 [==============================] - 9s 288ms/step - loss: 1.1489e-05 - accuracy: 1.0000 - val_loss: 2.6648e-04 - val_accuracy: 1.0000\n",
      "Epoch 50/50\n",
      "32/32 [==============================] - 9s 291ms/step - loss: 1.0699e-05 - accuracy: 1.0000 - val_loss: 0.0381 - val_accuracy: 0.9965\n"
     ]
    },
    {
     "data": {
      "text/plain": [
       "<keras.callbacks.History at 0x7f4314141730>"
      ]
     },
     "execution_count": 45,
     "metadata": {},
     "output_type": "execute_result"
    }
   ],
   "source": [
    "MNLog = \"/home/richard/Desktop/BtainTumorDetectionSystem/TypeLogFolder/MeNeLog\"\n",
    "\n",
    "MN_Callback = tf.keras.callbacks.TensorBoard(log_dir = MNLog)\n",
    "\n",
    "MNModel.fit(mntrain, epochs = 20, validation_data = mnval, callbacks = MN_Callback)"
   ]
  },
  {
   "cell_type": "code",
   "execution_count": 46,
   "id": "ae6e9fa6",
   "metadata": {},
   "outputs": [],
   "source": [
    "MeniNeuMod = \"/home/richard/Desktop/BtainTumorDetectionSystem/Models/MeniNeuModel\"\n",
    "MNModel.save(os.path.join(MeniNeuMod,'meningiomaneurocitomamodel.h5'))"
   ]
  },
  {
   "cell_type": "code",
   "execution_count": null,
   "id": "60efc256",
   "metadata": {},
   "outputs": [],
   "source": []
  },
  {
   "cell_type": "code",
   "execution_count": null,
   "id": "3ab9a4c9",
   "metadata": {},
   "outputs": [],
   "source": []
  },
  {
   "cell_type": "code",
   "execution_count": null,
   "id": "dc9d8693",
   "metadata": {},
   "outputs": [],
   "source": []
  },
  {
   "cell_type": "markdown",
   "id": "3ca473f1",
   "metadata": {},
   "source": [
    "# Neurocitoma or pituitary"
   ]
  },
  {
   "cell_type": "code",
   "execution_count": 47,
   "id": "c44f42be",
   "metadata": {},
   "outputs": [],
   "source": [
    "#Creating a Sequential model\n",
    "from tensorflow.keras.models import Sequential\n",
    "from tensorflow.keras.layers import Conv2D, MaxPooling2D,Dense,Flatten\n",
    "\n",
    "NPModel = Sequential()\n",
    "\n",
    "NPModel.add(Conv2D(32,(3,3),1,activation = 'relu',input_shape = (256,256,3)))\n",
    "NPModel.add(MaxPooling2D())\n",
    "\n",
    "NPModel.add(Conv2D(16,(3,3),1,activation = 'relu'))\n",
    "NPModel.add(MaxPooling2D())\n",
    "\n",
    "NPModel.add(Conv2D(32,(3,3),1,activation = 'relu'))\n",
    "NPModel.add(MaxPooling2D())\n",
    "\n",
    "NPModel.add(Flatten())\n",
    "\n",
    "NPModel.add(Dense(256,activation = 'relu'))\n",
    "NPModel.add(Dense(1,activation = 'sigmoid'))\n",
    "NPModel.compile('adam',loss = tf.losses.BinaryCrossentropy(),metrics = ['accuracy'])"
   ]
  },
  {
   "cell_type": "code",
   "execution_count": 48,
   "id": "8ab8b6bb",
   "metadata": {},
   "outputs": [
    {
     "name": "stdout",
     "output_type": "stream",
     "text": [
      "Model: \"sequential_6\"\n",
      "_________________________________________________________________\n",
      " Layer (type)                Output Shape              Param #   \n",
      "=================================================================\n",
      " conv2d_18 (Conv2D)          (None, 254, 254, 32)      896       \n",
      "                                                                 \n",
      " max_pooling2d_18 (MaxPoolin  (None, 127, 127, 32)     0         \n",
      " g2D)                                                            \n",
      "                                                                 \n",
      " conv2d_19 (Conv2D)          (None, 125, 125, 16)      4624      \n",
      "                                                                 \n",
      " max_pooling2d_19 (MaxPoolin  (None, 62, 62, 16)       0         \n",
      " g2D)                                                            \n",
      "                                                                 \n",
      " conv2d_20 (Conv2D)          (None, 60, 60, 32)        4640      \n",
      "                                                                 \n",
      " max_pooling2d_20 (MaxPoolin  (None, 30, 30, 32)       0         \n",
      " g2D)                                                            \n",
      "                                                                 \n",
      " flatten_6 (Flatten)         (None, 28800)             0         \n",
      "                                                                 \n",
      " dense_12 (Dense)            (None, 256)               7373056   \n",
      "                                                                 \n",
      " dense_13 (Dense)            (None, 1)                 257       \n",
      "                                                                 \n",
      "=================================================================\n",
      "Total params: 7,383,473\n",
      "Trainable params: 7,383,473\n",
      "Non-trainable params: 0\n",
      "_________________________________________________________________\n"
     ]
    }
   ],
   "source": [
    "NPModel.summary()"
   ]
  },
  {
   "cell_type": "code",
   "execution_count": 49,
   "id": "83a103df",
   "metadata": {},
   "outputs": [
    {
     "name": "stdout",
     "output_type": "stream",
     "text": [
      "Epoch 1/50\n",
      "37/37 [==============================] - 13s 308ms/step - loss: 7.4092 - accuracy: 0.8910 - val_loss: 0.1379 - val_accuracy: 0.9906\n",
      "Epoch 2/50\n",
      "37/37 [==============================] - 11s 310ms/step - loss: 0.0325 - accuracy: 0.9958 - val_loss: 0.0022 - val_accuracy: 1.0000\n",
      "Epoch 3/50\n",
      "37/37 [==============================] - 11s 292ms/step - loss: 0.0100 - accuracy: 0.9983 - val_loss: 0.0036 - val_accuracy: 0.9969\n",
      "Epoch 4/50\n",
      "37/37 [==============================] - 11s 305ms/step - loss: 0.0016 - accuracy: 0.9992 - val_loss: 0.0013 - val_accuracy: 1.0000\n",
      "Epoch 5/50\n",
      "37/37 [==============================] - 11s 297ms/step - loss: 0.0019 - accuracy: 0.9992 - val_loss: 3.0420e-04 - val_accuracy: 1.0000\n",
      "Epoch 6/50\n",
      "37/37 [==============================] - 11s 295ms/step - loss: 1.3928e-04 - accuracy: 1.0000 - val_loss: 1.2926e-04 - val_accuracy: 1.0000\n",
      "Epoch 7/50\n",
      "37/37 [==============================] - 11s 305ms/step - loss: 8.1483e-05 - accuracy: 1.0000 - val_loss: 7.5499e-05 - val_accuracy: 1.0000\n",
      "Epoch 8/50\n",
      "37/37 [==============================] - 11s 301ms/step - loss: 7.3202e-05 - accuracy: 1.0000 - val_loss: 1.0048e-04 - val_accuracy: 1.0000\n",
      "Epoch 9/50\n",
      "37/37 [==============================] - 11s 302ms/step - loss: 6.4124e-05 - accuracy: 1.0000 - val_loss: 8.3413e-05 - val_accuracy: 1.0000\n",
      "Epoch 10/50\n",
      "37/37 [==============================] - 11s 296ms/step - loss: 5.5926e-05 - accuracy: 1.0000 - val_loss: 8.2981e-05 - val_accuracy: 1.0000\n",
      "Epoch 11/50\n",
      "37/37 [==============================] - 12s 310ms/step - loss: 5.4592e-05 - accuracy: 1.0000 - val_loss: 4.9652e-05 - val_accuracy: 1.0000\n",
      "Epoch 12/50\n",
      "37/37 [==============================] - 11s 302ms/step - loss: 5.1928e-05 - accuracy: 1.0000 - val_loss: 1.3247e-04 - val_accuracy: 1.0000\n",
      "Epoch 13/50\n",
      "37/37 [==============================] - 12s 299ms/step - loss: 4.1331e-05 - accuracy: 1.0000 - val_loss: 2.3246e-04 - val_accuracy: 1.0000\n",
      "Epoch 14/50\n",
      "37/37 [==============================] - 11s 301ms/step - loss: 3.8723e-05 - accuracy: 1.0000 - val_loss: 3.0544e-04 - val_accuracy: 1.0000\n",
      "Epoch 15/50\n",
      "37/37 [==============================] - 11s 307ms/step - loss: 3.2499e-05 - accuracy: 1.0000 - val_loss: 1.3395e-04 - val_accuracy: 1.0000\n",
      "Epoch 16/50\n",
      "37/37 [==============================] - 11s 295ms/step - loss: 3.2929e-05 - accuracy: 1.0000 - val_loss: 1.8452e-04 - val_accuracy: 1.0000\n",
      "Epoch 17/50\n",
      "37/37 [==============================] - 11s 302ms/step - loss: 2.9106e-05 - accuracy: 1.0000 - val_loss: 1.6934e-04 - val_accuracy: 1.0000\n",
      "Epoch 18/50\n",
      "37/37 [==============================] - 12s 325ms/step - loss: 2.5981e-05 - accuracy: 1.0000 - val_loss: 1.7061e-04 - val_accuracy: 1.0000\n",
      "Epoch 19/50\n",
      "37/37 [==============================] - 11s 293ms/step - loss: 2.2042e-05 - accuracy: 1.0000 - val_loss: 2.9448e-05 - val_accuracy: 1.0000\n",
      "Epoch 20/50\n",
      "37/37 [==============================] - 11s 290ms/step - loss: 2.0923e-05 - accuracy: 1.0000 - val_loss: 1.0752e-04 - val_accuracy: 1.0000\n",
      "Epoch 21/50\n",
      "37/37 [==============================] - 11s 290ms/step - loss: 1.6992e-05 - accuracy: 1.0000 - val_loss: 1.2405e-04 - val_accuracy: 1.0000\n",
      "Epoch 22/50\n",
      "37/37 [==============================] - 11s 290ms/step - loss: 1.6893e-05 - accuracy: 1.0000 - val_loss: 1.1870e-04 - val_accuracy: 1.0000\n",
      "Epoch 23/50\n",
      "37/37 [==============================] - 11s 291ms/step - loss: 1.5767e-05 - accuracy: 1.0000 - val_loss: 1.5804e-05 - val_accuracy: 1.0000\n",
      "Epoch 24/50\n",
      "37/37 [==============================] - 11s 292ms/step - loss: 1.3817e-05 - accuracy: 1.0000 - val_loss: 2.2585e-05 - val_accuracy: 1.0000\n",
      "Epoch 25/50\n",
      "37/37 [==============================] - 11s 289ms/step - loss: 1.1922e-05 - accuracy: 1.0000 - val_loss: 1.0242e-04 - val_accuracy: 1.0000\n",
      "Epoch 26/50\n",
      "37/37 [==============================] - 11s 299ms/step - loss: 1.2918e-05 - accuracy: 1.0000 - val_loss: 1.0386e-04 - val_accuracy: 1.0000\n",
      "Epoch 27/50\n",
      "37/37 [==============================] - 11s 302ms/step - loss: 1.0500e-05 - accuracy: 1.0000 - val_loss: 1.0016e-04 - val_accuracy: 1.0000\n",
      "Epoch 28/50\n",
      "37/37 [==============================] - 11s 298ms/step - loss: 1.0242e-05 - accuracy: 1.0000 - val_loss: 1.7624e-04 - val_accuracy: 1.0000\n",
      "Epoch 29/50\n",
      "37/37 [==============================] - 11s 300ms/step - loss: 1.0284e-05 - accuracy: 1.0000 - val_loss: 1.6592e-04 - val_accuracy: 1.0000\n",
      "Epoch 30/50\n",
      "37/37 [==============================] - 11s 300ms/step - loss: 9.9223e-06 - accuracy: 1.0000 - val_loss: 9.9626e-05 - val_accuracy: 1.0000\n",
      "Epoch 31/50\n",
      "37/37 [==============================] - 11s 303ms/step - loss: 9.1321e-06 - accuracy: 1.0000 - val_loss: 1.1707e-05 - val_accuracy: 1.0000\n",
      "Epoch 32/50\n",
      "37/37 [==============================] - 16s 444ms/step - loss: 8.9740e-06 - accuracy: 1.0000 - val_loss: 1.7794e-05 - val_accuracy: 1.0000\n",
      "Epoch 33/50\n",
      "37/37 [==============================] - 11s 289ms/step - loss: 7.2422e-06 - accuracy: 1.0000 - val_loss: 9.8981e-05 - val_accuracy: 1.0000\n",
      "Epoch 34/50\n",
      "37/37 [==============================] - 11s 291ms/step - loss: 7.4701e-06 - accuracy: 1.0000 - val_loss: 1.4354e-04 - val_accuracy: 1.0000\n",
      "Epoch 35/50\n",
      "37/37 [==============================] - 11s 303ms/step - loss: 6.0834e-06 - accuracy: 1.0000 - val_loss: 1.3683e-04 - val_accuracy: 1.0000\n",
      "Epoch 36/50\n",
      "37/37 [==============================] - 11s 292ms/step - loss: 7.1373e-06 - accuracy: 1.0000 - val_loss: 1.8196e-05 - val_accuracy: 1.0000\n",
      "Epoch 37/50\n",
      "37/37 [==============================] - 11s 289ms/step - loss: 6.0766e-06 - accuracy: 1.0000 - val_loss: 7.7645e-05 - val_accuracy: 1.0000\n",
      "Epoch 38/50\n",
      "37/37 [==============================] - 11s 291ms/step - loss: 5.7008e-06 - accuracy: 1.0000 - val_loss: 8.4041e-05 - val_accuracy: 1.0000\n",
      "Epoch 39/50\n",
      "37/37 [==============================] - 11s 309ms/step - loss: 6.2301e-06 - accuracy: 1.0000 - val_loss: 8.3558e-05 - val_accuracy: 1.0000\n",
      "Epoch 40/50\n",
      "37/37 [==============================] - 11s 291ms/step - loss: 4.9995e-06 - accuracy: 1.0000 - val_loss: 1.2840e-04 - val_accuracy: 1.0000\n",
      "Epoch 41/50\n",
      "37/37 [==============================] - 11s 304ms/step - loss: 4.8682e-06 - accuracy: 1.0000 - val_loss: 8.7761e-05 - val_accuracy: 1.0000\n",
      "Epoch 42/50\n",
      "37/37 [==============================] - 12s 314ms/step - loss: 5.0231e-06 - accuracy: 1.0000 - val_loss: 1.2459e-05 - val_accuracy: 1.0000\n",
      "Epoch 43/50\n",
      "37/37 [==============================] - 12s 310ms/step - loss: 4.9185e-06 - accuracy: 1.0000 - val_loss: 9.1275e-05 - val_accuracy: 1.0000\n",
      "Epoch 44/50\n",
      "37/37 [==============================] - 12s 311ms/step - loss: 4.1830e-06 - accuracy: 1.0000 - val_loss: 8.4882e-05 - val_accuracy: 1.0000\n",
      "Epoch 45/50\n",
      "37/37 [==============================] - 12s 310ms/step - loss: 4.6411e-06 - accuracy: 1.0000 - val_loss: 1.3602e-05 - val_accuracy: 1.0000\n",
      "Epoch 46/50\n",
      "37/37 [==============================] - 11s 302ms/step - loss: 4.4838e-06 - accuracy: 1.0000 - val_loss: 8.6241e-05 - val_accuracy: 1.0000\n",
      "Epoch 47/50\n",
      "37/37 [==============================] - 11s 309ms/step - loss: 4.0840e-06 - accuracy: 1.0000 - val_loss: 8.0629e-05 - val_accuracy: 1.0000\n",
      "Epoch 48/50\n",
      "37/37 [==============================] - 11s 305ms/step - loss: 3.7371e-06 - accuracy: 1.0000 - val_loss: 7.9099e-05 - val_accuracy: 1.0000\n",
      "Epoch 49/50\n",
      "37/37 [==============================] - 11s 307ms/step - loss: 3.5344e-06 - accuracy: 1.0000 - val_loss: 6.8118e-05 - val_accuracy: 1.0000\n",
      "Epoch 50/50\n",
      "37/37 [==============================] - 11s 300ms/step - loss: 3.2048e-06 - accuracy: 1.0000 - val_loss: 1.2103e-05 - val_accuracy: 1.0000\n"
     ]
    },
    {
     "data": {
      "text/plain": [
       "<keras.callbacks.History at 0x7f426d529a90>"
      ]
     },
     "execution_count": 49,
     "metadata": {},
     "output_type": "execute_result"
    }
   ],
   "source": [
    "NPLog = \"/home/richard/Desktop/BtainTumorDetectionSystem/TypeLogFolder/NePiLogs\"\n",
    "\n",
    "NP_Callback = tf.keras.callbacks.TensorBoard(log_dir = NPLog)\n",
    "\n",
    "NPModel.fit(nptrain, epochs = 20, validation_data = npval, callbacks = NP_Callback)"
   ]
  },
  {
   "cell_type": "code",
   "execution_count": 50,
   "id": "1ca6cd09",
   "metadata": {},
   "outputs": [],
   "source": [
    "NeuPituMod = \"/home/richard/Desktop/BtainTumorDetectionSystem/Models/NeuPituModel\"\n",
    "\n",
    "NPModel.save(os.path.join(NeuPituMod, 'neurocitomapituitarymodel.h5'))"
   ]
  },
  {
   "cell_type": "code",
   "execution_count": null,
   "id": "c21c05e9",
   "metadata": {},
   "outputs": [],
   "source": []
  },
  {
   "cell_type": "code",
   "execution_count": null,
   "id": "7f7afabc",
   "metadata": {},
   "outputs": [],
   "source": []
  },
  {
   "cell_type": "code",
   "execution_count": null,
   "id": "228d2ddc",
   "metadata": {},
   "outputs": [],
   "source": []
  },
  {
   "cell_type": "markdown",
   "id": "7fb2e8b3",
   "metadata": {},
   "source": [
    "# Glioma  Vs Schwannoma"
   ]
  },
  {
   "cell_type": "code",
   "execution_count": null,
   "id": "94a4209f",
   "metadata": {},
   "outputs": [],
   "source": [
    "#Creating a Sequential model\n",
    "from tensorflow.keras.models import Sequential\n",
    "from tensorflow.keras.layers import Conv2D, MaxPooling2D,Dense,Flatten\n",
    "\n",
    "GSModel = Sequential()\n",
    "\n",
    "GSModel.add(Conv2D(32,(3,3),1,activation = 'relu',input_shape = (256,256,3)))\n",
    "GSModel.add(MaxPooling2D())\n",
    "\n",
    "GSModel.add(Conv2D(16,(3,3),1,activation = 'relu'))\n",
    "GSModel.add(MaxPooling2D())\n",
    "\n",
    "GSModel.add(Conv2D(32,(3,3),1,activation = 'relu'))\n",
    "GSModel.add(MaxPooling2D())\n",
    "\n",
    "GSModel.add(Flatten())\n",
    "\n",
    "GSModel.add(Dense(256,activation = 'relu'))\n",
    "GSModel.add(Dense(1,activation = 'sigmoid'))\n",
    "GSModel.compile('adam',loss = tf.losses.BinaryCrossentropy(),metrics = ['accuracy'])"
   ]
  },
  {
   "cell_type": "code",
   "execution_count": null,
   "id": "0cf977ad",
   "metadata": {},
   "outputs": [],
   "source": [
    "GSModel.summary()"
   ]
  },
  {
   "cell_type": "code",
   "execution_count": null,
   "id": "03f80dc3",
   "metadata": {},
   "outputs": [],
   "source": [
    "GSLog = \"/home/richard/Desktop/BtainTumorDetectionSystem/TypeLogFolder/GlSchwLogs\"\n",
    "\n",
    "GS_Callback = tf.keras.callbacks.TensorBoard(log_dir = GSLog)\n",
    "\n",
    "GSModel.fit(gstrain, epochs = 20, validation_data = gsval, callbacks = GS_Callback)"
   ]
  },
  {
   "cell_type": "code",
   "execution_count": null,
   "id": "e8518918",
   "metadata": {},
   "outputs": [],
   "source": [
    "GSMod = \"/home/richard/Desktop/BtainTumorDetectionSystem/Models/GlioSchwaModel\"\n",
    "GSModel.save(os.path.join(GSMod,'gliomascwannomamodel.h5'))"
   ]
  },
  {
   "cell_type": "code",
   "execution_count": null,
   "id": "fb93f7db",
   "metadata": {},
   "outputs": [],
   "source": []
  },
  {
   "cell_type": "code",
   "execution_count": null,
   "id": "072dee73",
   "metadata": {},
   "outputs": [],
   "source": []
  },
  {
   "cell_type": "code",
   "execution_count": null,
   "id": "6f237db6",
   "metadata": {},
   "outputs": [],
   "source": []
  },
  {
   "cell_type": "markdown",
   "id": "bb93469b",
   "metadata": {},
   "source": [
    "# Meningioma Vs Schwannoma\n",
    "\n"
   ]
  },
  {
   "cell_type": "code",
   "execution_count": null,
   "id": "b46eefd2",
   "metadata": {},
   "outputs": [],
   "source": [
    "#Creating a Sequential model\n",
    "from tensorflow.keras.models import Sequential\n",
    "from tensorflow.keras.layers import Conv2D, MaxPooling2D,Dense,Flatten\n",
    "\n",
    "MSModel = Sequential()\n",
    "\n",
    "MSModel.add(Conv2D(32,(3,3),1,activation = 'relu',input_shape = (256,256,3)))\n",
    "MSModel.add(MaxPooling2D())\n",
    "\n",
    "MSModel.add(Conv2D(16,(3,3),1,activation = 'relu'))\n",
    "MSModel.add(MaxPooling2D())\n",
    "\n",
    "MSModel.add(Conv2D(32,(3,3),1,activation = 'relu'))\n",
    "MSModel.add(MaxPooling2D())\n",
    "\n",
    "MSModel.add(Flatten())\n",
    "\n",
    "MSModel.add(Dense(256,activation = 'relu'))\n",
    "MSModel.add(Dense(1,activation = 'sigmoid'))\n",
    "MSModel.compile('adam',loss = tf.losses.BinaryCrossentropy(),metrics = ['accuracy'])"
   ]
  },
  {
   "cell_type": "code",
   "execution_count": null,
   "id": "30c17eba",
   "metadata": {},
   "outputs": [],
   "source": [
    "MSModel.summary()"
   ]
  },
  {
   "cell_type": "code",
   "execution_count": null,
   "id": "7700f402",
   "metadata": {},
   "outputs": [],
   "source": [
    "MSLog = '/home/richard/Desktop/BtainTumorDetectionSystem/TypeLogFolder/MeSchwaLogs'\n",
    "MS_Callback = tf.keras.callbacks.TensorBoard(log_dir = MSLog)\n",
    "\n",
    "MSModel.fit(mstrain, epochs = 20, validation_data = msval,callbacks = MS_Callback)"
   ]
  },
  {
   "cell_type": "code",
   "execution_count": null,
   "id": "9e8fbe89",
   "metadata": {},
   "outputs": [],
   "source": [
    "MSMod = '/home/richard/Desktop/BtainTumorDetectionSystem/Models/MeniSchwaModel'\n",
    "MSModel.save(os.path.join(MSMod,'meningiomaschwannomamodel.h5'))"
   ]
  },
  {
   "cell_type": "markdown",
   "id": "907efd1d",
   "metadata": {},
   "source": [
    "# Pituitary Vs Schwannoma"
   ]
  },
  {
   "cell_type": "code",
   "execution_count": 28,
   "id": "d75d2cee",
   "metadata": {},
   "outputs": [],
   "source": [
    "#Creating a Sequential model\n",
    "from tensorflow.keras.models import Sequential\n",
    "from tensorflow.keras.layers import Conv2D, MaxPooling2D,Dense,Flatten\n",
    "\n",
    "PSModel = Sequential()\n",
    "\n",
    "PSModel.add(Conv2D(32,(3,3),1,activation = 'relu',input_shape = (256,256,3)))\n",
    "PSModel.add(MaxPooling2D())\n",
    "\n",
    "PSModel.add(Conv2D(16,(3,3),1,activation = 'relu'))\n",
    "PSModel.add(MaxPooling2D())\n",
    "\n",
    "PSModel.add(Conv2D(32,(3,3),1,activation = 'relu'))\n",
    "PSModel.add(MaxPooling2D())\n",
    "\n",
    "PSModel.add(Flatten())\n",
    "\n",
    "PSModel.add(Dense(1,activation = 'sigmoid'))\n",
    "PSModel.compile('adam',loss = tf.losses.BinaryCrossentropy(),metrics = ['accuracy'])"
   ]
  },
  {
   "cell_type": "code",
   "execution_count": 29,
   "id": "93a8887c",
   "metadata": {},
   "outputs": [
    {
     "name": "stdout",
     "output_type": "stream",
     "text": [
      "Model: \"sequential_2\"\n",
      "_________________________________________________________________\n",
      " Layer (type)                Output Shape              Param #   \n",
      "=================================================================\n",
      " conv2d_6 (Conv2D)           (None, 254, 254, 32)      896       \n",
      "                                                                 \n",
      " max_pooling2d_6 (MaxPooling  (None, 127, 127, 32)     0         \n",
      " 2D)                                                             \n",
      "                                                                 \n",
      " conv2d_7 (Conv2D)           (None, 125, 125, 16)      4624      \n",
      "                                                                 \n",
      " max_pooling2d_7 (MaxPooling  (None, 62, 62, 16)       0         \n",
      " 2D)                                                             \n",
      "                                                                 \n",
      " conv2d_8 (Conv2D)           (None, 60, 60, 32)        4640      \n",
      "                                                                 \n",
      " max_pooling2d_8 (MaxPooling  (None, 30, 30, 32)       0         \n",
      " 2D)                                                             \n",
      "                                                                 \n",
      " flatten_2 (Flatten)         (None, 28800)             0         \n",
      "                                                                 \n",
      " dense_4 (Dense)             (None, 1)                 28801     \n",
      "                                                                 \n",
      "=================================================================\n",
      "Total params: 38,961\n",
      "Trainable params: 38,961\n",
      "Non-trainable params: 0\n",
      "_________________________________________________________________\n"
     ]
    }
   ],
   "source": [
    "PSModel.summary()"
   ]
  },
  {
   "cell_type": "code",
   "execution_count": 30,
   "id": "d02fbdf4",
   "metadata": {},
   "outputs": [
    {
     "name": "stdout",
     "output_type": "stream",
     "text": [
      "Epoch 1/20\n",
      "36/36 [==============================] - 12s 262ms/step - loss: 3.2937 - accuracy: 0.8993 - val_loss: 0.2631 - val_accuracy: 0.9344\n",
      "Epoch 2/20\n",
      "36/36 [==============================] - 9s 252ms/step - loss: 0.0778 - accuracy: 0.9818 - val_loss: 0.0152 - val_accuracy: 0.9937\n",
      "Epoch 3/20\n",
      "36/36 [==============================] - 9s 251ms/step - loss: 0.0255 - accuracy: 0.9913 - val_loss: 0.0378 - val_accuracy: 0.9844\n",
      "Epoch 4/20\n",
      "36/36 [==============================] - 9s 250ms/step - loss: 0.0063 - accuracy: 0.9983 - val_loss: 0.0027 - val_accuracy: 1.0000\n",
      "Epoch 5/20\n",
      "36/36 [==============================] - 9s 245ms/step - loss: 0.0023 - accuracy: 1.0000 - val_loss: 0.0031 - val_accuracy: 1.0000\n",
      "Epoch 6/20\n",
      "36/36 [==============================] - 9s 243ms/step - loss: 9.6085e-04 - accuracy: 1.0000 - val_loss: 0.0041 - val_accuracy: 0.9969\n",
      "Epoch 7/20\n",
      "36/36 [==============================] - 9s 243ms/step - loss: 6.3295e-04 - accuracy: 1.0000 - val_loss: 0.0011 - val_accuracy: 1.0000\n",
      "Epoch 8/20\n",
      "36/36 [==============================] - 9s 253ms/step - loss: 5.7889e-04 - accuracy: 1.0000 - val_loss: 0.0037 - val_accuracy: 0.9969\n",
      "Epoch 9/20\n",
      "36/36 [==============================] - 9s 247ms/step - loss: 0.0013 - accuracy: 0.9991 - val_loss: 8.0685e-04 - val_accuracy: 1.0000\n",
      "Epoch 10/20\n",
      "36/36 [==============================] - 9s 246ms/step - loss: 0.0027 - accuracy: 1.0000 - val_loss: 0.0017 - val_accuracy: 1.0000\n",
      "Epoch 11/20\n",
      "36/36 [==============================] - 9s 244ms/step - loss: 5.2241e-04 - accuracy: 1.0000 - val_loss: 0.0023 - val_accuracy: 1.0000\n",
      "Epoch 12/20\n",
      "36/36 [==============================] - 9s 243ms/step - loss: 2.9396e-04 - accuracy: 1.0000 - val_loss: 6.3231e-04 - val_accuracy: 1.0000\n",
      "Epoch 13/20\n",
      "36/36 [==============================] - 9s 244ms/step - loss: 2.8260e-04 - accuracy: 1.0000 - val_loss: 0.0021 - val_accuracy: 1.0000\n",
      "Epoch 14/20\n",
      "36/36 [==============================] - 9s 263ms/step - loss: 1.6819e-04 - accuracy: 1.0000 - val_loss: 0.0011 - val_accuracy: 1.0000\n",
      "Epoch 15/20\n",
      "36/36 [==============================] - 9s 250ms/step - loss: 1.3611e-04 - accuracy: 1.0000 - val_loss: 0.0012 - val_accuracy: 1.0000\n",
      "Epoch 16/20\n",
      "36/36 [==============================] - 10s 265ms/step - loss: 1.1656e-04 - accuracy: 1.0000 - val_loss: 0.0014 - val_accuracy: 1.0000\n",
      "Epoch 17/20\n",
      "36/36 [==============================] - 9s 254ms/step - loss: 1.1723e-04 - accuracy: 1.0000 - val_loss: 0.0018 - val_accuracy: 1.0000\n",
      "Epoch 18/20\n",
      "36/36 [==============================] - 9s 251ms/step - loss: 1.5063e-04 - accuracy: 1.0000 - val_loss: 7.4344e-04 - val_accuracy: 1.0000\n",
      "Epoch 19/20\n",
      "36/36 [==============================] - 9s 259ms/step - loss: 1.0168e-04 - accuracy: 1.0000 - val_loss: 0.0012 - val_accuracy: 1.0000\n",
      "Epoch 20/20\n",
      "36/36 [==============================] - 9s 247ms/step - loss: 1.0406e-04 - accuracy: 1.0000 - val_loss: 0.0014 - val_accuracy: 1.0000\n"
     ]
    },
    {
     "data": {
      "text/plain": [
       "<keras.callbacks.History at 0x7f2e8c4b1d60>"
      ]
     },
     "execution_count": 30,
     "metadata": {},
     "output_type": "execute_result"
    }
   ],
   "source": [
    "PSLog = '/home/richard/Desktop/BtainTumorDetectionSystem/TypeLogFolder/PiSchwaLogs'\n",
    "PS_Callback = tf.keras.callbacks.TensorBoard(log_dir = PSLog)\n",
    "PSModel.fit(pstrain,epochs = 20, validation_data = psval,callbacks = PS_Callback)"
   ]
  },
  {
   "cell_type": "code",
   "execution_count": 31,
   "id": "552f4cf9",
   "metadata": {},
   "outputs": [],
   "source": [
    "PSMod = '/home/richard/Desktop/BtainTumorDetectionSystem/Models/PituSchwaModel'\n",
    "\n",
    "PSModel.save(os.path.join(PSMod,'pituitaryschwannomamodel.h5'))"
   ]
  },
  {
   "cell_type": "markdown",
   "id": "b85d1dd8",
   "metadata": {},
   "source": [
    "# Neurocitoma Vs Schwannoma"
   ]
  },
  {
   "cell_type": "code",
   "execution_count": 21,
   "id": "c8beea92",
   "metadata": {},
   "outputs": [],
   "source": [
    "#Creating a Sequential model\n",
    "from tensorflow.keras.models import Sequential\n",
    "from tensorflow.keras.layers import Conv2D, MaxPooling2D,Dense,Flatten\n",
    "\n",
    "NSModel = Sequential()\n",
    "\n",
    "NSModel.add(Conv2D(32,(3,3),1,activation = 'relu',input_shape = (256,256,3)))\n",
    "NSModel.add(MaxPooling2D())\n",
    "\n",
    "NSModel.add(Conv2D(16,(3,3),1,activation = 'relu'))\n",
    "NSModel.add(MaxPooling2D())\n",
    "\n",
    "NSModel.add(Conv2D(32,(3,3),1,activation = 'relu'))\n",
    "NSModel.add(MaxPooling2D())\n",
    "\n",
    "NSModel.add(Flatten())\n",
    "\n",
    "NSModel.add(Dense(256,activation = 'relu'))\n",
    "NSModel.add(Dense(1,activation = 'sigmoid'))\n",
    "NSModel.compile('adam',loss = tf.losses.BinaryCrossentropy(),metrics = ['accuracy'])"
   ]
  },
  {
   "cell_type": "code",
   "execution_count": 22,
   "id": "04e2fd72",
   "metadata": {
    "scrolled": true
   },
   "outputs": [
    {
     "name": "stdout",
     "output_type": "stream",
     "text": [
      "Model: \"sequential_1\"\n",
      "_________________________________________________________________\n",
      " Layer (type)                Output Shape              Param #   \n",
      "=================================================================\n",
      " conv2d_3 (Conv2D)           (None, 254, 254, 32)      896       \n",
      "                                                                 \n",
      " max_pooling2d_3 (MaxPooling  (None, 127, 127, 32)     0         \n",
      " 2D)                                                             \n",
      "                                                                 \n",
      " conv2d_4 (Conv2D)           (None, 125, 125, 16)      4624      \n",
      "                                                                 \n",
      " max_pooling2d_4 (MaxPooling  (None, 62, 62, 16)       0         \n",
      " 2D)                                                             \n",
      "                                                                 \n",
      " conv2d_5 (Conv2D)           (None, 60, 60, 32)        4640      \n",
      "                                                                 \n",
      " max_pooling2d_5 (MaxPooling  (None, 30, 30, 32)       0         \n",
      " 2D)                                                             \n",
      "                                                                 \n",
      " flatten_1 (Flatten)         (None, 28800)             0         \n",
      "                                                                 \n",
      " dense_2 (Dense)             (None, 256)               7373056   \n",
      "                                                                 \n",
      " dense_3 (Dense)             (None, 1)                 257       \n",
      "                                                                 \n",
      "=================================================================\n",
      "Total params: 7,383,473\n",
      "Trainable params: 7,383,473\n",
      "Non-trainable params: 0\n",
      "_________________________________________________________________\n"
     ]
    }
   ],
   "source": [
    "NSModel.summary()"
   ]
  },
  {
   "cell_type": "code",
   "execution_count": 23,
   "id": "b8acd2e9",
   "metadata": {},
   "outputs": [
    {
     "name": "stdout",
     "output_type": "stream",
     "text": [
      "Epoch 1/20\n",
      "10/10 [==============================] - 6s 324ms/step - loss: 91.1785 - accuracy: 0.5938 - val_loss: 6.9284 - val_accuracy: 0.6875\n",
      "Epoch 2/20\n",
      "10/10 [==============================] - 3s 295ms/step - loss: 2.8084 - accuracy: 0.8062 - val_loss: 0.1726 - val_accuracy: 0.9792\n",
      "Epoch 3/20\n",
      "10/10 [==============================] - 3s 295ms/step - loss: 0.3761 - accuracy: 0.9500 - val_loss: 0.0677 - val_accuracy: 0.9896\n",
      "Epoch 4/20\n",
      "10/10 [==============================] - 3s 297ms/step - loss: 0.0781 - accuracy: 0.9844 - val_loss: 0.2064 - val_accuracy: 0.9688\n",
      "Epoch 5/20\n",
      "10/10 [==============================] - 3s 293ms/step - loss: 0.0207 - accuracy: 0.9875 - val_loss: 0.0611 - val_accuracy: 0.9792\n",
      "Epoch 6/20\n",
      "10/10 [==============================] - 3s 295ms/step - loss: 0.0062 - accuracy: 0.9969 - val_loss: 7.0682e-05 - val_accuracy: 1.0000\n",
      "Epoch 7/20\n",
      "10/10 [==============================] - 3s 298ms/step - loss: 1.4356e-04 - accuracy: 1.0000 - val_loss: 0.0573 - val_accuracy: 0.9896\n",
      "Epoch 8/20\n",
      "10/10 [==============================] - 3s 307ms/step - loss: 0.0018 - accuracy: 1.0000 - val_loss: 1.6873e-06 - val_accuracy: 1.0000\n",
      "Epoch 9/20\n",
      "10/10 [==============================] - 3s 292ms/step - loss: 5.8575e-04 - accuracy: 1.0000 - val_loss: 0.0035 - val_accuracy: 1.0000\n",
      "Epoch 10/20\n",
      "10/10 [==============================] - 3s 299ms/step - loss: 0.0101 - accuracy: 0.9969 - val_loss: 3.8325e-07 - val_accuracy: 1.0000\n",
      "Epoch 11/20\n",
      "10/10 [==============================] - 3s 294ms/step - loss: 0.0011 - accuracy: 1.0000 - val_loss: 2.8186e-04 - val_accuracy: 1.0000\n",
      "Epoch 12/20\n",
      "10/10 [==============================] - 3s 301ms/step - loss: 2.9798e-05 - accuracy: 1.0000 - val_loss: 2.1352e-07 - val_accuracy: 1.0000\n",
      "Epoch 13/20\n",
      "10/10 [==============================] - 3s 297ms/step - loss: 1.9707e-06 - accuracy: 1.0000 - val_loss: 4.2739e-06 - val_accuracy: 1.0000\n",
      "Epoch 14/20\n",
      "10/10 [==============================] - 3s 304ms/step - loss: 1.2677e-04 - accuracy: 1.0000 - val_loss: 3.7732e-06 - val_accuracy: 1.0000\n",
      "Epoch 15/20\n",
      "10/10 [==============================] - 3s 295ms/step - loss: 6.8796e-06 - accuracy: 1.0000 - val_loss: 4.4872e-06 - val_accuracy: 1.0000\n",
      "Epoch 16/20\n",
      "10/10 [==============================] - 3s 294ms/step - loss: 1.8673e-06 - accuracy: 1.0000 - val_loss: 5.3503e-06 - val_accuracy: 1.0000\n",
      "Epoch 17/20\n",
      "10/10 [==============================] - 3s 296ms/step - loss: 1.1172e-06 - accuracy: 1.0000 - val_loss: 2.7954e-06 - val_accuracy: 1.0000\n",
      "Epoch 18/20\n",
      "10/10 [==============================] - 3s 292ms/step - loss: 2.8244e-06 - accuracy: 1.0000 - val_loss: 5.7530e-06 - val_accuracy: 1.0000\n",
      "Epoch 19/20\n",
      "10/10 [==============================] - 3s 302ms/step - loss: 2.2058e-06 - accuracy: 1.0000 - val_loss: 2.1798e-07 - val_accuracy: 1.0000\n",
      "Epoch 20/20\n",
      "10/10 [==============================] - 3s 293ms/step - loss: 2.7615e-06 - accuracy: 1.0000 - val_loss: 3.4562e-06 - val_accuracy: 1.0000\n"
     ]
    },
    {
     "data": {
      "text/plain": [
       "<keras.callbacks.History at 0x7f2e8c47aeb0>"
      ]
     },
     "execution_count": 23,
     "metadata": {},
     "output_type": "execute_result"
    }
   ],
   "source": [
    "NSLog = '/home/richard/Desktop/BtainTumorDetectionSystem/TypeLogFolder/NeuSchwaLogs'\n",
    "NS_Callback = tf.keras.callbacks.TensorBoard(log_dir = NSLog)\n",
    "NSModel.fit(nstrain,epochs = 20, validation_data = nsval,callbacks = NS_Callback)"
   ]
  },
  {
   "cell_type": "code",
   "execution_count": 24,
   "id": "53033520",
   "metadata": {},
   "outputs": [],
   "source": [
    "NSMod = '/home/richard/Desktop/BtainTumorDetectionSystem/Models/NeuSchwaModel'\n",
    "NSModel.save(os.path.join(NSMod,'neurocitomaschwannomamodel.h5'))"
   ]
  },
  {
   "cell_type": "code",
   "execution_count": null,
   "id": "2b05584f",
   "metadata": {},
   "outputs": [],
   "source": []
  },
  {
   "cell_type": "code",
   "execution_count": null,
   "id": "a93c4123",
   "metadata": {},
   "outputs": [],
   "source": []
  },
  {
   "cell_type": "markdown",
   "id": "bf52d5a0",
   "metadata": {},
   "source": [
    "# Model Accuracy"
   ]
  },
  {
   "cell_type": "code",
   "execution_count": 25,
   "id": "5088bc24",
   "metadata": {},
   "outputs": [],
   "source": [
    "Det = '/home/richard/Desktop/BtainTumorDetectionSystem/Models/TumorDetectionModel'\n",
    "\n",
    "Tumor = load_model(os.path.join(Det,'TumorDetectionModel.h5'))"
   ]
  },
  {
   "cell_type": "code",
   "execution_count": 26,
   "id": "d117c408",
   "metadata": {},
   "outputs": [
    {
     "name": "stdout",
     "output_type": "stream",
     "text": [
      "42/42 [==============================] - 151s 289ms/step - loss: 0.1240 - accuracy: 0.9939\n"
     ]
    }
   ],
   "source": [
    "accuracy = Tumor.evaluate(Test)"
   ]
  },
  {
   "cell_type": "code",
   "execution_count": 27,
   "id": "9e5afb05",
   "metadata": {},
   "outputs": [
    {
     "name": "stdout",
     "output_type": "stream",
     "text": [
      "[0.12398116290569305, 0.9939393997192383]\n"
     ]
    }
   ],
   "source": [
    "print(accuracy)"
   ]
  },
  {
   "cell_type": "code",
   "execution_count": null,
   "id": "d85b5602",
   "metadata": {},
   "outputs": [],
   "source": []
  },
  {
   "cell_type": "code",
   "execution_count": null,
   "id": "be2d8381",
   "metadata": {},
   "outputs": [],
   "source": []
  }
 ],
 "metadata": {
  "kernelspec": {
   "display_name": "Python 3 (ipykernel)",
   "language": "python",
   "name": "python3"
  },
  "language_info": {
   "codemirror_mode": {
    "name": "ipython",
    "version": 3
   },
   "file_extension": ".py",
   "mimetype": "text/x-python",
   "name": "python",
   "nbconvert_exporter": "python",
   "pygments_lexer": "ipython3",
   "version": "3.9.7"
  }
 },
 "nbformat": 4,
 "nbformat_minor": 5
}
